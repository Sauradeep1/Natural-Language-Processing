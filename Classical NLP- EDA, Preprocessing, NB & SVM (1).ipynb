{
 "cells": [
  {
   "cell_type": "code",
   "execution_count": 69,
   "metadata": {},
   "outputs": [],
   "source": [
    "import numpy as np\n",
    "import pandas as pd\n",
    "from  sklearn.metrics import f1_score"
   ]
  },
  {
   "cell_type": "code",
   "execution_count": 2,
   "metadata": {},
   "outputs": [],
   "source": [
    "import nltk"
   ]
  },
  {
   "cell_type": "code",
   "execution_count": 3,
   "metadata": {},
   "outputs": [],
   "source": [
    "data = pd.read_csv('Womens Clothing E-Commerce Reviews.csv/Womens Clothing E-Commerce Reviews.csv', engine='python')\n",
    "#data = pd.read_csv('rev.csv')"
   ]
  },
  {
   "cell_type": "code",
   "execution_count": 6,
   "metadata": {},
   "outputs": [
    {
     "data": {
      "text/html": [
       "<div>\n",
       "<style scoped>\n",
       "    .dataframe tbody tr th:only-of-type {\n",
       "        vertical-align: middle;\n",
       "    }\n",
       "\n",
       "    .dataframe tbody tr th {\n",
       "        vertical-align: top;\n",
       "    }\n",
       "\n",
       "    .dataframe thead th {\n",
       "        text-align: right;\n",
       "    }\n",
       "</style>\n",
       "<table border=\"1\" class=\"dataframe\">\n",
       "  <thead>\n",
       "    <tr style=\"text-align: right;\">\n",
       "      <th></th>\n",
       "      <th>Unnamed: 0</th>\n",
       "      <th>Clothing ID</th>\n",
       "      <th>Age</th>\n",
       "      <th>Title</th>\n",
       "      <th>Review Text</th>\n",
       "      <th>Rating</th>\n",
       "      <th>Recommended IND</th>\n",
       "      <th>Positive Feedback Count</th>\n",
       "      <th>Division Name</th>\n",
       "      <th>Department Name</th>\n",
       "      <th>Class Name</th>\n",
       "    </tr>\n",
       "  </thead>\n",
       "  <tbody>\n",
       "    <tr>\n",
       "      <th>0</th>\n",
       "      <td>0</td>\n",
       "      <td>767</td>\n",
       "      <td>33</td>\n",
       "      <td>NaN</td>\n",
       "      <td>Absolutely wonderful - silky and sexy and comf...</td>\n",
       "      <td>4</td>\n",
       "      <td>1</td>\n",
       "      <td>0</td>\n",
       "      <td>Initmates</td>\n",
       "      <td>Intimate</td>\n",
       "      <td>Intimates</td>\n",
       "    </tr>\n",
       "    <tr>\n",
       "      <th>1</th>\n",
       "      <td>1</td>\n",
       "      <td>1080</td>\n",
       "      <td>34</td>\n",
       "      <td>NaN</td>\n",
       "      <td>Love this dress!  it's sooo pretty.  i happene...</td>\n",
       "      <td>5</td>\n",
       "      <td>1</td>\n",
       "      <td>4</td>\n",
       "      <td>General</td>\n",
       "      <td>Dresses</td>\n",
       "      <td>Dresses</td>\n",
       "    </tr>\n",
       "    <tr>\n",
       "      <th>2</th>\n",
       "      <td>2</td>\n",
       "      <td>1077</td>\n",
       "      <td>60</td>\n",
       "      <td>Some major design flaws</td>\n",
       "      <td>I had such high hopes for this dress and reall...</td>\n",
       "      <td>3</td>\n",
       "      <td>0</td>\n",
       "      <td>0</td>\n",
       "      <td>General</td>\n",
       "      <td>Dresses</td>\n",
       "      <td>Dresses</td>\n",
       "    </tr>\n",
       "    <tr>\n",
       "      <th>3</th>\n",
       "      <td>3</td>\n",
       "      <td>1049</td>\n",
       "      <td>50</td>\n",
       "      <td>My favorite buy!</td>\n",
       "      <td>I love, love, love this jumpsuit. it's fun, fl...</td>\n",
       "      <td>5</td>\n",
       "      <td>1</td>\n",
       "      <td>0</td>\n",
       "      <td>General Petite</td>\n",
       "      <td>Bottoms</td>\n",
       "      <td>Pants</td>\n",
       "    </tr>\n",
       "    <tr>\n",
       "      <th>4</th>\n",
       "      <td>4</td>\n",
       "      <td>847</td>\n",
       "      <td>47</td>\n",
       "      <td>Flattering shirt</td>\n",
       "      <td>This shirt is very flattering to all due to th...</td>\n",
       "      <td>5</td>\n",
       "      <td>1</td>\n",
       "      <td>6</td>\n",
       "      <td>General</td>\n",
       "      <td>Tops</td>\n",
       "      <td>Blouses</td>\n",
       "    </tr>\n",
       "    <tr>\n",
       "      <th>5</th>\n",
       "      <td>5</td>\n",
       "      <td>1080</td>\n",
       "      <td>49</td>\n",
       "      <td>Not for the very petite</td>\n",
       "      <td>I love tracy reese dresses, but this one is no...</td>\n",
       "      <td>2</td>\n",
       "      <td>0</td>\n",
       "      <td>4</td>\n",
       "      <td>General</td>\n",
       "      <td>Dresses</td>\n",
       "      <td>Dresses</td>\n",
       "    </tr>\n",
       "    <tr>\n",
       "      <th>6</th>\n",
       "      <td>6</td>\n",
       "      <td>858</td>\n",
       "      <td>39</td>\n",
       "      <td>Cagrcoal shimmer fun</td>\n",
       "      <td>I aded this in my basket at hte last mintue to...</td>\n",
       "      <td>5</td>\n",
       "      <td>1</td>\n",
       "      <td>1</td>\n",
       "      <td>General Petite</td>\n",
       "      <td>Tops</td>\n",
       "      <td>Knits</td>\n",
       "    </tr>\n",
       "    <tr>\n",
       "      <th>7</th>\n",
       "      <td>7</td>\n",
       "      <td>858</td>\n",
       "      <td>39</td>\n",
       "      <td>Shimmer, surprisingly goes with lots</td>\n",
       "      <td>I ordered this in carbon for store pick up, an...</td>\n",
       "      <td>4</td>\n",
       "      <td>1</td>\n",
       "      <td>4</td>\n",
       "      <td>General Petite</td>\n",
       "      <td>Tops</td>\n",
       "      <td>Knits</td>\n",
       "    </tr>\n",
       "    <tr>\n",
       "      <th>8</th>\n",
       "      <td>8</td>\n",
       "      <td>1077</td>\n",
       "      <td>24</td>\n",
       "      <td>Flattering</td>\n",
       "      <td>I love this dress. i usually get an xs but it ...</td>\n",
       "      <td>5</td>\n",
       "      <td>1</td>\n",
       "      <td>0</td>\n",
       "      <td>General</td>\n",
       "      <td>Dresses</td>\n",
       "      <td>Dresses</td>\n",
       "    </tr>\n",
       "    <tr>\n",
       "      <th>9</th>\n",
       "      <td>9</td>\n",
       "      <td>1077</td>\n",
       "      <td>34</td>\n",
       "      <td>Such a fun dress!</td>\n",
       "      <td>I'm 5\"5' and 125 lbs. i ordered the s petite t...</td>\n",
       "      <td>5</td>\n",
       "      <td>1</td>\n",
       "      <td>0</td>\n",
       "      <td>General</td>\n",
       "      <td>Dresses</td>\n",
       "      <td>Dresses</td>\n",
       "    </tr>\n",
       "  </tbody>\n",
       "</table>\n",
       "</div>"
      ],
      "text/plain": [
       "   Unnamed: 0  Clothing ID  Age                                 Title  \\\n",
       "0           0          767   33                                   NaN   \n",
       "1           1         1080   34                                   NaN   \n",
       "2           2         1077   60               Some major design flaws   \n",
       "3           3         1049   50                      My favorite buy!   \n",
       "4           4          847   47                      Flattering shirt   \n",
       "5           5         1080   49               Not for the very petite   \n",
       "6           6          858   39                  Cagrcoal shimmer fun   \n",
       "7           7          858   39  Shimmer, surprisingly goes with lots   \n",
       "8           8         1077   24                            Flattering   \n",
       "9           9         1077   34                     Such a fun dress!   \n",
       "\n",
       "                                         Review Text  Rating  Recommended IND  \\\n",
       "0  Absolutely wonderful - silky and sexy and comf...       4                1   \n",
       "1  Love this dress!  it's sooo pretty.  i happene...       5                1   \n",
       "2  I had such high hopes for this dress and reall...       3                0   \n",
       "3  I love, love, love this jumpsuit. it's fun, fl...       5                1   \n",
       "4  This shirt is very flattering to all due to th...       5                1   \n",
       "5  I love tracy reese dresses, but this one is no...       2                0   \n",
       "6  I aded this in my basket at hte last mintue to...       5                1   \n",
       "7  I ordered this in carbon for store pick up, an...       4                1   \n",
       "8  I love this dress. i usually get an xs but it ...       5                1   \n",
       "9  I'm 5\"5' and 125 lbs. i ordered the s petite t...       5                1   \n",
       "\n",
       "   Positive Feedback Count   Division Name Department Name Class Name  \n",
       "0                        0       Initmates        Intimate  Intimates  \n",
       "1                        4         General         Dresses    Dresses  \n",
       "2                        0         General         Dresses    Dresses  \n",
       "3                        0  General Petite         Bottoms      Pants  \n",
       "4                        6         General            Tops    Blouses  \n",
       "5                        4         General         Dresses    Dresses  \n",
       "6                        1  General Petite            Tops      Knits  \n",
       "7                        4  General Petite            Tops      Knits  \n",
       "8                        0         General         Dresses    Dresses  \n",
       "9                        0         General         Dresses    Dresses  "
      ]
     },
     "execution_count": 6,
     "metadata": {},
     "output_type": "execute_result"
    }
   ],
   "source": [
    "data.head(10)"
   ]
  },
  {
   "cell_type": "code",
   "execution_count": 5,
   "metadata": {},
   "outputs": [
    {
     "data": {
      "text/plain": [
       "Unnamed: 0                    0\n",
       "Clothing ID                   0\n",
       "Age                           0\n",
       "Title                      3810\n",
       "Review Text                 845\n",
       "Rating                        0\n",
       "Recommended IND               0\n",
       "Positive Feedback Count       0\n",
       "Division Name                14\n",
       "Department Name              14\n",
       "Class Name                   14\n",
       "dtype: int64"
      ]
     },
     "execution_count": 5,
     "metadata": {},
     "output_type": "execute_result"
    }
   ],
   "source": [
    "data.isna().sum()"
   ]
  },
  {
   "cell_type": "markdown",
   "metadata": {},
   "source": []
  },
  {
   "cell_type": "code",
   "execution_count": null,
   "metadata": {},
   "outputs": [],
   "source": []
  },
  {
   "cell_type": "code",
   "execution_count": 7,
   "metadata": {},
   "outputs": [
    {
     "data": {
      "text/plain": [
       "SimpleImputer(add_indicator=False, copy=True, fill_value='', missing_values=nan,\n",
       "              strategy='constant', verbose=0)"
      ]
     },
     "execution_count": 7,
     "metadata": {},
     "output_type": "execute_result"
    }
   ],
   "source": [
    "from sklearn.impute import SimpleImputer\n",
    "\n",
    "miss= SimpleImputer(strategy='constant', fill_value='') \n",
    "miss.fit(data)"
   ]
  },
  {
   "cell_type": "code",
   "execution_count": 8,
   "metadata": {},
   "outputs": [],
   "source": [
    "idata =miss.transform(data)"
   ]
  },
  {
   "cell_type": "code",
   "execution_count": 9,
   "metadata": {},
   "outputs": [
    {
     "data": {
      "text/plain": [
       "array([[0, 767, 33, ..., 'Initmates', 'Intimate', 'Intimates'],\n",
       "       [1, 1080, 34, ..., 'General', 'Dresses', 'Dresses'],\n",
       "       [2, 1077, 60, ..., 'General', 'Dresses', 'Dresses'],\n",
       "       ...,\n",
       "       [23483, 1104, 31, ..., 'General Petite', 'Dresses', 'Dresses'],\n",
       "       [23484, 1084, 28, ..., 'General', 'Dresses', 'Dresses'],\n",
       "       [23485, 1104, 52, ..., 'General Petite', 'Dresses', 'Dresses']],\n",
       "      dtype=object)"
      ]
     },
     "execution_count": 9,
     "metadata": {},
     "output_type": "execute_result"
    }
   ],
   "source": [
    "idata"
   ]
  },
  {
   "cell_type": "code",
   "execution_count": 10,
   "metadata": {},
   "outputs": [],
   "source": [
    "train=pd.DataFrame(data=idata,    # values\n",
    "              index=data.index,    # 1st column as index\n",
    "            columns=data.columns)  # 1st row as the column names"
   ]
  },
  {
   "cell_type": "code",
   "execution_count": 11,
   "metadata": {},
   "outputs": [
    {
     "data": {
      "text/html": [
       "<div>\n",
       "<style scoped>\n",
       "    .dataframe tbody tr th:only-of-type {\n",
       "        vertical-align: middle;\n",
       "    }\n",
       "\n",
       "    .dataframe tbody tr th {\n",
       "        vertical-align: top;\n",
       "    }\n",
       "\n",
       "    .dataframe thead th {\n",
       "        text-align: right;\n",
       "    }\n",
       "</style>\n",
       "<table border=\"1\" class=\"dataframe\">\n",
       "  <thead>\n",
       "    <tr style=\"text-align: right;\">\n",
       "      <th></th>\n",
       "      <th>Unnamed: 0</th>\n",
       "      <th>Clothing ID</th>\n",
       "      <th>Age</th>\n",
       "      <th>Title</th>\n",
       "      <th>Review Text</th>\n",
       "      <th>Rating</th>\n",
       "      <th>Recommended IND</th>\n",
       "      <th>Positive Feedback Count</th>\n",
       "      <th>Division Name</th>\n",
       "      <th>Department Name</th>\n",
       "      <th>Class Name</th>\n",
       "    </tr>\n",
       "  </thead>\n",
       "  <tbody>\n",
       "    <tr>\n",
       "      <th>0</th>\n",
       "      <td>0</td>\n",
       "      <td>767</td>\n",
       "      <td>33</td>\n",
       "      <td></td>\n",
       "      <td>Absolutely wonderful - silky and sexy and comf...</td>\n",
       "      <td>4</td>\n",
       "      <td>1</td>\n",
       "      <td>0</td>\n",
       "      <td>Initmates</td>\n",
       "      <td>Intimate</td>\n",
       "      <td>Intimates</td>\n",
       "    </tr>\n",
       "    <tr>\n",
       "      <th>1</th>\n",
       "      <td>1</td>\n",
       "      <td>1080</td>\n",
       "      <td>34</td>\n",
       "      <td></td>\n",
       "      <td>Love this dress!  it's sooo pretty.  i happene...</td>\n",
       "      <td>5</td>\n",
       "      <td>1</td>\n",
       "      <td>4</td>\n",
       "      <td>General</td>\n",
       "      <td>Dresses</td>\n",
       "      <td>Dresses</td>\n",
       "    </tr>\n",
       "    <tr>\n",
       "      <th>2</th>\n",
       "      <td>2</td>\n",
       "      <td>1077</td>\n",
       "      <td>60</td>\n",
       "      <td>Some major design flaws</td>\n",
       "      <td>I had such high hopes for this dress and reall...</td>\n",
       "      <td>3</td>\n",
       "      <td>0</td>\n",
       "      <td>0</td>\n",
       "      <td>General</td>\n",
       "      <td>Dresses</td>\n",
       "      <td>Dresses</td>\n",
       "    </tr>\n",
       "    <tr>\n",
       "      <th>3</th>\n",
       "      <td>3</td>\n",
       "      <td>1049</td>\n",
       "      <td>50</td>\n",
       "      <td>My favorite buy!</td>\n",
       "      <td>I love, love, love this jumpsuit. it's fun, fl...</td>\n",
       "      <td>5</td>\n",
       "      <td>1</td>\n",
       "      <td>0</td>\n",
       "      <td>General Petite</td>\n",
       "      <td>Bottoms</td>\n",
       "      <td>Pants</td>\n",
       "    </tr>\n",
       "    <tr>\n",
       "      <th>4</th>\n",
       "      <td>4</td>\n",
       "      <td>847</td>\n",
       "      <td>47</td>\n",
       "      <td>Flattering shirt</td>\n",
       "      <td>This shirt is very flattering to all due to th...</td>\n",
       "      <td>5</td>\n",
       "      <td>1</td>\n",
       "      <td>6</td>\n",
       "      <td>General</td>\n",
       "      <td>Tops</td>\n",
       "      <td>Blouses</td>\n",
       "    </tr>\n",
       "  </tbody>\n",
       "</table>\n",
       "</div>"
      ],
      "text/plain": [
       "  Unnamed: 0 Clothing ID Age                    Title  \\\n",
       "0          0         767  33                            \n",
       "1          1        1080  34                            \n",
       "2          2        1077  60  Some major design flaws   \n",
       "3          3        1049  50         My favorite buy!   \n",
       "4          4         847  47         Flattering shirt   \n",
       "\n",
       "                                         Review Text Rating Recommended IND  \\\n",
       "0  Absolutely wonderful - silky and sexy and comf...      4               1   \n",
       "1  Love this dress!  it's sooo pretty.  i happene...      5               1   \n",
       "2  I had such high hopes for this dress and reall...      3               0   \n",
       "3  I love, love, love this jumpsuit. it's fun, fl...      5               1   \n",
       "4  This shirt is very flattering to all due to th...      5               1   \n",
       "\n",
       "  Positive Feedback Count   Division Name Department Name Class Name  \n",
       "0                       0       Initmates        Intimate  Intimates  \n",
       "1                       4         General         Dresses    Dresses  \n",
       "2                       0         General         Dresses    Dresses  \n",
       "3                       0  General Petite         Bottoms      Pants  \n",
       "4                       6         General            Tops    Blouses  "
      ]
     },
     "execution_count": 11,
     "metadata": {},
     "output_type": "execute_result"
    }
   ],
   "source": [
    "train.head()"
   ]
  },
  {
   "cell_type": "code",
   "execution_count": 12,
   "metadata": {},
   "outputs": [],
   "source": [
    "train.drop(['Clothing ID','Age'], axis =1, inplace=True)"
   ]
  },
  {
   "cell_type": "code",
   "execution_count": 13,
   "metadata": {},
   "outputs": [],
   "source": [
    "train.drop(train.loc[:,'Division Name':'Class Name'], axis=1, inplace=True)"
   ]
  },
  {
   "cell_type": "code",
   "execution_count": 14,
   "metadata": {},
   "outputs": [
    {
     "data": {
      "text/plain": [
       "122"
      ]
     },
     "execution_count": 14,
     "metadata": {},
     "output_type": "execute_result"
    }
   ],
   "source": [
    "train['Positive Feedback Count'].unique().max()"
   ]
  },
  {
   "cell_type": "code",
   "execution_count": 15,
   "metadata": {},
   "outputs": [
    {
     "data": {
      "text/plain": [
       "array([1, 0], dtype=object)"
      ]
     },
     "execution_count": 15,
     "metadata": {},
     "output_type": "execute_result"
    }
   ],
   "source": [
    "train['Recommended IND'].unique()"
   ]
  },
  {
   "cell_type": "code",
   "execution_count": 16,
   "metadata": {},
   "outputs": [
    {
     "name": "stdout",
     "output_type": "stream",
     "text": [
      "[0, 1, 2, 3, 4, 5, 6, 7, 8, 9, 10, 11, 12, 13, 14, 15, 16, 17, 18, 19, 20, 21, 22, 23, 24, 25, 26, 27, 28, 29, 30, 31, 32, 33, 34, 35, 36, 37, 38, 39, 40, 41, 42, 43, 44, 45, 46, 47, 48, 49, 50, 51, 52, 53, 54, 55, 56, 57, 58, 59, 61, 64, 65, 66, 68, 69, 71, 77, 78, 81, 82, 84, 87, 89, 93, 94, 95, 98, 99, 108, 117, 122]\n"
     ]
    }
   ],
   "source": [
    "print(sorted(train['Positive Feedback Count'].unique()))# doesn't modify the original sequence\n",
    "#print(sorted(train['Positive Feedback Count'].unique())[n-1])# for nth element "
   ]
  },
  {
   "cell_type": "markdown",
   "metadata": {},
   "source": [
    "# Convert all Text to lower case"
   ]
  },
  {
   "cell_type": "code",
   "execution_count": 17,
   "metadata": {},
   "outputs": [
    {
     "data": {
      "text/html": [
       "<div>\n",
       "<style scoped>\n",
       "    .dataframe tbody tr th:only-of-type {\n",
       "        vertical-align: middle;\n",
       "    }\n",
       "\n",
       "    .dataframe tbody tr th {\n",
       "        vertical-align: top;\n",
       "    }\n",
       "\n",
       "    .dataframe thead th {\n",
       "        text-align: right;\n",
       "    }\n",
       "</style>\n",
       "<table border=\"1\" class=\"dataframe\">\n",
       "  <thead>\n",
       "    <tr style=\"text-align: right;\">\n",
       "      <th></th>\n",
       "      <th>Unnamed: 0</th>\n",
       "      <th>Title</th>\n",
       "      <th>Review Text</th>\n",
       "      <th>Rating</th>\n",
       "      <th>Recommended IND</th>\n",
       "      <th>Positive Feedback Count</th>\n",
       "    </tr>\n",
       "  </thead>\n",
       "  <tbody>\n",
       "    <tr>\n",
       "      <th>0</th>\n",
       "      <td>0</td>\n",
       "      <td></td>\n",
       "      <td>absolutely wonderful - silky and sexy and comf...</td>\n",
       "      <td>4</td>\n",
       "      <td>1</td>\n",
       "      <td>0</td>\n",
       "    </tr>\n",
       "    <tr>\n",
       "      <th>1</th>\n",
       "      <td>1</td>\n",
       "      <td></td>\n",
       "      <td>love this dress!  it's sooo pretty.  i happene...</td>\n",
       "      <td>5</td>\n",
       "      <td>1</td>\n",
       "      <td>4</td>\n",
       "    </tr>\n",
       "    <tr>\n",
       "      <th>2</th>\n",
       "      <td>2</td>\n",
       "      <td>some major design flaws</td>\n",
       "      <td>i had such high hopes for this dress and reall...</td>\n",
       "      <td>3</td>\n",
       "      <td>0</td>\n",
       "      <td>0</td>\n",
       "    </tr>\n",
       "    <tr>\n",
       "      <th>3</th>\n",
       "      <td>3</td>\n",
       "      <td>my favorite buy!</td>\n",
       "      <td>i love, love, love this jumpsuit. it's fun, fl...</td>\n",
       "      <td>5</td>\n",
       "      <td>1</td>\n",
       "      <td>0</td>\n",
       "    </tr>\n",
       "    <tr>\n",
       "      <th>4</th>\n",
       "      <td>4</td>\n",
       "      <td>flattering shirt</td>\n",
       "      <td>this shirt is very flattering to all due to th...</td>\n",
       "      <td>5</td>\n",
       "      <td>1</td>\n",
       "      <td>6</td>\n",
       "    </tr>\n",
       "  </tbody>\n",
       "</table>\n",
       "</div>"
      ],
      "text/plain": [
       "  Unnamed: 0                    Title  \\\n",
       "0          0                            \n",
       "1          1                            \n",
       "2          2  some major design flaws   \n",
       "3          3         my favorite buy!   \n",
       "4          4         flattering shirt   \n",
       "\n",
       "                                         Review Text Rating Recommended IND  \\\n",
       "0  absolutely wonderful - silky and sexy and comf...      4               1   \n",
       "1  love this dress!  it's sooo pretty.  i happene...      5               1   \n",
       "2  i had such high hopes for this dress and reall...      3               0   \n",
       "3  i love, love, love this jumpsuit. it's fun, fl...      5               1   \n",
       "4  this shirt is very flattering to all due to th...      5               1   \n",
       "\n",
       "  Positive Feedback Count  \n",
       "0                       0  \n",
       "1                       4  \n",
       "2                       0  \n",
       "3                       0  \n",
       "4                       6  "
      ]
     },
     "execution_count": 17,
     "metadata": {},
     "output_type": "execute_result"
    }
   ],
   "source": [
    "train['Title']=train['Title'].str.lower()#if you don't assign it, the original text is not changed\n",
    "train['Review Text']=train['Review Text'].str.lower()# without str, getting AttributeError: 'Series' object has no attribute 'lower'\n",
    "#converting to lower case\n",
    "train.head()"
   ]
  },
  {
   "cell_type": "code",
   "execution_count": 18,
   "metadata": {},
   "outputs": [
    {
     "ename": "TypeError",
     "evalue": "expected string or bytes-like object",
     "output_type": "error",
     "traceback": [
      "\u001b[1;31m---------------------------------------------------------------------------\u001b[0m",
      "\u001b[1;31mTypeError\u001b[0m                                 Traceback (most recent call last)",
      "\u001b[1;32m<ipython-input-18-e11fc89bf0aa>\u001b[0m in \u001b[0;36m<module>\u001b[1;34m\u001b[0m\n\u001b[0;32m      1\u001b[0m \u001b[1;32mimport\u001b[0m \u001b[0mre\u001b[0m\u001b[1;33m\u001b[0m\u001b[1;33m\u001b[0m\u001b[0m\n\u001b[1;32m----> 2\u001b[1;33m \u001b[0mtrain\u001b[0m\u001b[1;33m[\u001b[0m\u001b[1;34m'Review Text'\u001b[0m\u001b[1;33m]\u001b[0m\u001b[1;33m=\u001b[0m\u001b[0mre\u001b[0m\u001b[1;33m.\u001b[0m\u001b[0msub\u001b[0m\u001b[1;33m(\u001b[0m\u001b[1;34mr'\\d+'\u001b[0m\u001b[1;33m,\u001b[0m \u001b[1;34m''\u001b[0m\u001b[1;33m,\u001b[0m \u001b[0mtrain\u001b[0m\u001b[1;33m[\u001b[0m\u001b[1;34m'Review Text'\u001b[0m\u001b[1;33m]\u001b[0m\u001b[1;33m.\u001b[0m\u001b[0mapply\u001b[0m\u001b[1;33m(\u001b[0m\u001b[0mstr\u001b[0m\u001b[1;33m)\u001b[0m\u001b[1;33m)\u001b[0m\u001b[1;33m\u001b[0m\u001b[1;33m\u001b[0m\u001b[0m\n\u001b[0m",
      "\u001b[1;32m~\\Anaconda3\\lib\\re.py\u001b[0m in \u001b[0;36msub\u001b[1;34m(pattern, repl, string, count, flags)\u001b[0m\n\u001b[0;32m    190\u001b[0m     \u001b[0ma\u001b[0m \u001b[0mcallable\u001b[0m\u001b[1;33m,\u001b[0m \u001b[0mit\u001b[0m\u001b[0;31m'\u001b[0m\u001b[0ms\u001b[0m \u001b[0mpassed\u001b[0m \u001b[0mthe\u001b[0m \u001b[0mMatch\u001b[0m \u001b[0mobject\u001b[0m \u001b[1;32mand\u001b[0m \u001b[0mmust\u001b[0m \u001b[1;32mreturn\u001b[0m\u001b[1;33m\u001b[0m\u001b[1;33m\u001b[0m\u001b[0m\n\u001b[0;32m    191\u001b[0m     a replacement string to be used.\"\"\"\n\u001b[1;32m--> 192\u001b[1;33m     \u001b[1;32mreturn\u001b[0m \u001b[0m_compile\u001b[0m\u001b[1;33m(\u001b[0m\u001b[0mpattern\u001b[0m\u001b[1;33m,\u001b[0m \u001b[0mflags\u001b[0m\u001b[1;33m)\u001b[0m\u001b[1;33m.\u001b[0m\u001b[0msub\u001b[0m\u001b[1;33m(\u001b[0m\u001b[0mrepl\u001b[0m\u001b[1;33m,\u001b[0m \u001b[0mstring\u001b[0m\u001b[1;33m,\u001b[0m \u001b[0mcount\u001b[0m\u001b[1;33m)\u001b[0m\u001b[1;33m\u001b[0m\u001b[1;33m\u001b[0m\u001b[0m\n\u001b[0m\u001b[0;32m    193\u001b[0m \u001b[1;33m\u001b[0m\u001b[0m\n\u001b[0;32m    194\u001b[0m \u001b[1;32mdef\u001b[0m \u001b[0msubn\u001b[0m\u001b[1;33m(\u001b[0m\u001b[0mpattern\u001b[0m\u001b[1;33m,\u001b[0m \u001b[0mrepl\u001b[0m\u001b[1;33m,\u001b[0m \u001b[0mstring\u001b[0m\u001b[1;33m,\u001b[0m \u001b[0mcount\u001b[0m\u001b[1;33m=\u001b[0m\u001b[1;36m0\u001b[0m\u001b[1;33m,\u001b[0m \u001b[0mflags\u001b[0m\u001b[1;33m=\u001b[0m\u001b[1;36m0\u001b[0m\u001b[1;33m)\u001b[0m\u001b[1;33m:\u001b[0m\u001b[1;33m\u001b[0m\u001b[1;33m\u001b[0m\u001b[0m\n",
      "\u001b[1;31mTypeError\u001b[0m: expected string or bytes-like object"
     ]
    }
   ],
   "source": [
    "import re\n",
    "train['Review Text']=re.sub(r'\\d+', '', train['Review Text'].apply(str))"
   ]
  },
  {
   "cell_type": "markdown",
   "metadata": {},
   "source": [
    "# removing punctuation marks"
   ]
  },
  {
   "cell_type": "code",
   "execution_count": 19,
   "metadata": {
    "scrolled": true
   },
   "outputs": [
    {
     "data": {
      "text/html": [
       "<div>\n",
       "<style scoped>\n",
       "    .dataframe tbody tr th:only-of-type {\n",
       "        vertical-align: middle;\n",
       "    }\n",
       "\n",
       "    .dataframe tbody tr th {\n",
       "        vertical-align: top;\n",
       "    }\n",
       "\n",
       "    .dataframe thead th {\n",
       "        text-align: right;\n",
       "    }\n",
       "</style>\n",
       "<table border=\"1\" class=\"dataframe\">\n",
       "  <thead>\n",
       "    <tr style=\"text-align: right;\">\n",
       "      <th></th>\n",
       "      <th>Unnamed: 0</th>\n",
       "      <th>Title</th>\n",
       "      <th>Review Text</th>\n",
       "      <th>Rating</th>\n",
       "      <th>Recommended IND</th>\n",
       "      <th>Positive Feedback Count</th>\n",
       "    </tr>\n",
       "  </thead>\n",
       "  <tbody>\n",
       "    <tr>\n",
       "      <th>0</th>\n",
       "      <td>0</td>\n",
       "      <td></td>\n",
       "      <td>absolutely wonderful  silky and sexy and comfo...</td>\n",
       "      <td>4</td>\n",
       "      <td>1</td>\n",
       "      <td>0</td>\n",
       "    </tr>\n",
       "    <tr>\n",
       "      <th>1</th>\n",
       "      <td>1</td>\n",
       "      <td></td>\n",
       "      <td>love this dress  its sooo pretty  i happened t...</td>\n",
       "      <td>5</td>\n",
       "      <td>1</td>\n",
       "      <td>4</td>\n",
       "    </tr>\n",
       "    <tr>\n",
       "      <th>2</th>\n",
       "      <td>2</td>\n",
       "      <td>some major design flaws</td>\n",
       "      <td>i had such high hopes for this dress and reall...</td>\n",
       "      <td>3</td>\n",
       "      <td>0</td>\n",
       "      <td>0</td>\n",
       "    </tr>\n",
       "    <tr>\n",
       "      <th>3</th>\n",
       "      <td>3</td>\n",
       "      <td>my favorite buy</td>\n",
       "      <td>i love love love this jumpsuit its fun flirty ...</td>\n",
       "      <td>5</td>\n",
       "      <td>1</td>\n",
       "      <td>0</td>\n",
       "    </tr>\n",
       "    <tr>\n",
       "      <th>4</th>\n",
       "      <td>4</td>\n",
       "      <td>flattering shirt</td>\n",
       "      <td>this shirt is very flattering to all due to th...</td>\n",
       "      <td>5</td>\n",
       "      <td>1</td>\n",
       "      <td>6</td>\n",
       "    </tr>\n",
       "  </tbody>\n",
       "</table>\n",
       "</div>"
      ],
      "text/plain": [
       "  Unnamed: 0                    Title  \\\n",
       "0          0                            \n",
       "1          1                            \n",
       "2          2  some major design flaws   \n",
       "3          3          my favorite buy   \n",
       "4          4         flattering shirt   \n",
       "\n",
       "                                         Review Text Rating Recommended IND  \\\n",
       "0  absolutely wonderful  silky and sexy and comfo...      4               1   \n",
       "1  love this dress  its sooo pretty  i happened t...      5               1   \n",
       "2  i had such high hopes for this dress and reall...      3               0   \n",
       "3  i love love love this jumpsuit its fun flirty ...      5               1   \n",
       "4  this shirt is very flattering to all due to th...      5               1   \n",
       "\n",
       "  Positive Feedback Count  \n",
       "0                       0  \n",
       "1                       4  \n",
       "2                       0  \n",
       "3                       0  \n",
       "4                       6  "
      ]
     },
     "execution_count": 19,
     "metadata": {},
     "output_type": "execute_result"
    }
   ],
   "source": [
    "import string\n",
    "from string import punctuation\n",
    "#train['Review Text']=train['Review Text'].str.translate(str.maketrans(\"\",\"\"), string.punctuation)\n",
    "train['Review Text']=train['Review Text'].str.replace(rf'[{punctuation}]', '')\n",
    "train['Title']=train['Title'].str.replace(rf'[{punctuation}]', '')\n",
    "train.head()"
   ]
  },
  {
   "cell_type": "markdown",
   "metadata": {},
   "source": [
    ">>> import pandas as pd\n",
    ">>> from string import punctuation\n",
    ">>> s = pd.Series(['abcd$*%&efg', '  xyz@)$(@rst'])\n",
    ">>> s.str.replace(rf'[{punctuation}]', '')\n",
    "0     abcdefg\n",
    "1      xyzrst\n",
    "dtype: object\n",
    "The first argument to .str.replace() can be a regular expression. In this case, you can use f-strings and a character class to catch any of the punctuation characters:\n",
    "\n",
    ">>> rf'[{punctuation}]'\n",
    "'[!\"#$%&\\'()*+,-./:;<=>?@[\\\\]^_`{|}~]'  # ' and \\ are escaped\n",
    "If you want to apply this to a DataFrame, just follow what you're doing now:\n",
    "\n",
    "df.loc[:, cols] = df[cols].apply(lambda s: s.str.replace(rf'[{punctuation}]', ''))\n",
    "Alternatively, you could use s.replace(rf'[{punctuation}]', '', regex=True) (no .str accessor)."
   ]
  },
  {
   "cell_type": "markdown",
   "metadata": {},
   "source": [
    "# word tokenize"
   ]
  },
  {
   "cell_type": "code",
   "execution_count": 20,
   "metadata": {},
   "outputs": [],
   "source": [
    "from nltk.tokenize import word_tokenize\n",
    "\n",
    "train['Review Text']= train['Review Text'].apply(word_tokenize)#= word_tokenize(train['Review Text'].str) gave - expected string or byte\n",
    "train['Title']=train['Title'].apply(word_tokenize)#\n"
   ]
  },
  {
   "cell_type": "code",
   "execution_count": 21,
   "metadata": {},
   "outputs": [
    {
     "data": {
      "text/html": [
       "<div>\n",
       "<style scoped>\n",
       "    .dataframe tbody tr th:only-of-type {\n",
       "        vertical-align: middle;\n",
       "    }\n",
       "\n",
       "    .dataframe tbody tr th {\n",
       "        vertical-align: top;\n",
       "    }\n",
       "\n",
       "    .dataframe thead th {\n",
       "        text-align: right;\n",
       "    }\n",
       "</style>\n",
       "<table border=\"1\" class=\"dataframe\">\n",
       "  <thead>\n",
       "    <tr style=\"text-align: right;\">\n",
       "      <th></th>\n",
       "      <th>Unnamed: 0</th>\n",
       "      <th>Title</th>\n",
       "      <th>Review Text</th>\n",
       "      <th>Rating</th>\n",
       "      <th>Recommended IND</th>\n",
       "      <th>Positive Feedback Count</th>\n",
       "    </tr>\n",
       "  </thead>\n",
       "  <tbody>\n",
       "    <tr>\n",
       "      <th>0</th>\n",
       "      <td>0</td>\n",
       "      <td>[]</td>\n",
       "      <td>[absolutely, wonderful, silky, and, sexy, and,...</td>\n",
       "      <td>4</td>\n",
       "      <td>1</td>\n",
       "      <td>0</td>\n",
       "    </tr>\n",
       "    <tr>\n",
       "      <th>1</th>\n",
       "      <td>1</td>\n",
       "      <td>[]</td>\n",
       "      <td>[love, this, dress, its, sooo, pretty, i, happ...</td>\n",
       "      <td>5</td>\n",
       "      <td>1</td>\n",
       "      <td>4</td>\n",
       "    </tr>\n",
       "    <tr>\n",
       "      <th>2</th>\n",
       "      <td>2</td>\n",
       "      <td>[some, major, design, flaws]</td>\n",
       "      <td>[i, had, such, high, hopes, for, this, dress, ...</td>\n",
       "      <td>3</td>\n",
       "      <td>0</td>\n",
       "      <td>0</td>\n",
       "    </tr>\n",
       "    <tr>\n",
       "      <th>3</th>\n",
       "      <td>3</td>\n",
       "      <td>[my, favorite, buy]</td>\n",
       "      <td>[i, love, love, love, this, jumpsuit, its, fun...</td>\n",
       "      <td>5</td>\n",
       "      <td>1</td>\n",
       "      <td>0</td>\n",
       "    </tr>\n",
       "    <tr>\n",
       "      <th>4</th>\n",
       "      <td>4</td>\n",
       "      <td>[flattering, shirt]</td>\n",
       "      <td>[this, shirt, is, very, flattering, to, all, d...</td>\n",
       "      <td>5</td>\n",
       "      <td>1</td>\n",
       "      <td>6</td>\n",
       "    </tr>\n",
       "  </tbody>\n",
       "</table>\n",
       "</div>"
      ],
      "text/plain": [
       "  Unnamed: 0                         Title  \\\n",
       "0          0                            []   \n",
       "1          1                            []   \n",
       "2          2  [some, major, design, flaws]   \n",
       "3          3           [my, favorite, buy]   \n",
       "4          4           [flattering, shirt]   \n",
       "\n",
       "                                         Review Text Rating Recommended IND  \\\n",
       "0  [absolutely, wonderful, silky, and, sexy, and,...      4               1   \n",
       "1  [love, this, dress, its, sooo, pretty, i, happ...      5               1   \n",
       "2  [i, had, such, high, hopes, for, this, dress, ...      3               0   \n",
       "3  [i, love, love, love, this, jumpsuit, its, fun...      5               1   \n",
       "4  [this, shirt, is, very, flattering, to, all, d...      5               1   \n",
       "\n",
       "  Positive Feedback Count  \n",
       "0                       0  \n",
       "1                       4  \n",
       "2                       0  \n",
       "3                       0  \n",
       "4                       6  "
      ]
     },
     "execution_count": 21,
     "metadata": {},
     "output_type": "execute_result"
    }
   ],
   "source": [
    "train.head()"
   ]
  },
  {
   "cell_type": "markdown",
   "metadata": {},
   "source": [
    "# removing stop words/common words from review text"
   ]
  },
  {
   "cell_type": "code",
   "execution_count": 22,
   "metadata": {},
   "outputs": [],
   "source": [
    "from nltk.corpus import stopwords\n",
    "stop_words = set(stopwords.words('english'))\n",
    "x = train['Review Text'].str\n",
    "train['Review Text'] = train['Review Text'].apply(lambda x: ' '.join([word for word in x if word not in (stop_words)]))"
   ]
  },
  {
   "cell_type": "code",
   "execution_count": 99,
   "metadata": {},
   "outputs": [
    {
     "data": {
      "text/plain": [
       "dtype('O')"
      ]
     },
     "execution_count": 99,
     "metadata": {},
     "output_type": "execute_result"
    }
   ],
   "source": [
    "#y= train['Title'].str\n",
    "#train['Title']= train['Title'].apply(lambda y: ' '.join([word for word in y if word not in (stop_words)]))"
   ]
  },
  {
   "cell_type": "code",
   "execution_count": 23,
   "metadata": {},
   "outputs": [
    {
     "data": {
      "text/html": [
       "<div>\n",
       "<style scoped>\n",
       "    .dataframe tbody tr th:only-of-type {\n",
       "        vertical-align: middle;\n",
       "    }\n",
       "\n",
       "    .dataframe tbody tr th {\n",
       "        vertical-align: top;\n",
       "    }\n",
       "\n",
       "    .dataframe thead th {\n",
       "        text-align: right;\n",
       "    }\n",
       "</style>\n",
       "<table border=\"1\" class=\"dataframe\">\n",
       "  <thead>\n",
       "    <tr style=\"text-align: right;\">\n",
       "      <th></th>\n",
       "      <th>Unnamed: 0</th>\n",
       "      <th>Title</th>\n",
       "      <th>Review Text</th>\n",
       "      <th>Rating</th>\n",
       "      <th>Recommended IND</th>\n",
       "      <th>Positive Feedback Count</th>\n",
       "    </tr>\n",
       "  </thead>\n",
       "  <tbody>\n",
       "    <tr>\n",
       "      <th>0</th>\n",
       "      <td>0</td>\n",
       "      <td>[]</td>\n",
       "      <td>absolutely wonderful silky sexy comfortable</td>\n",
       "      <td>4</td>\n",
       "      <td>1</td>\n",
       "      <td>0</td>\n",
       "    </tr>\n",
       "    <tr>\n",
       "      <th>1</th>\n",
       "      <td>1</td>\n",
       "      <td>[]</td>\n",
       "      <td>love dress sooo pretty happened find store im ...</td>\n",
       "      <td>5</td>\n",
       "      <td>1</td>\n",
       "      <td>4</td>\n",
       "    </tr>\n",
       "    <tr>\n",
       "      <th>2</th>\n",
       "      <td>2</td>\n",
       "      <td>[some, major, design, flaws]</td>\n",
       "      <td>high hopes dress really wanted work initially ...</td>\n",
       "      <td>3</td>\n",
       "      <td>0</td>\n",
       "      <td>0</td>\n",
       "    </tr>\n",
       "    <tr>\n",
       "      <th>3</th>\n",
       "      <td>3</td>\n",
       "      <td>[my, favorite, buy]</td>\n",
       "      <td>love love love jumpsuit fun flirty fabulous ev...</td>\n",
       "      <td>5</td>\n",
       "      <td>1</td>\n",
       "      <td>0</td>\n",
       "    </tr>\n",
       "    <tr>\n",
       "      <th>4</th>\n",
       "      <td>4</td>\n",
       "      <td>[flattering, shirt]</td>\n",
       "      <td>shirt flattering due adjustable front tie perf...</td>\n",
       "      <td>5</td>\n",
       "      <td>1</td>\n",
       "      <td>6</td>\n",
       "    </tr>\n",
       "    <tr>\n",
       "      <th>5</th>\n",
       "      <td>5</td>\n",
       "      <td>[not, for, the, very, petite]</td>\n",
       "      <td>love tracy reese dresses one petite 5 feet tal...</td>\n",
       "      <td>2</td>\n",
       "      <td>0</td>\n",
       "      <td>4</td>\n",
       "    </tr>\n",
       "    <tr>\n",
       "      <th>6</th>\n",
       "      <td>6</td>\n",
       "      <td>[cagrcoal, shimmer, fun]</td>\n",
       "      <td>aded basket hte last mintue see would look lik...</td>\n",
       "      <td>5</td>\n",
       "      <td>1</td>\n",
       "      <td>1</td>\n",
       "    </tr>\n",
       "  </tbody>\n",
       "</table>\n",
       "</div>"
      ],
      "text/plain": [
       "  Unnamed: 0                          Title  \\\n",
       "0          0                             []   \n",
       "1          1                             []   \n",
       "2          2   [some, major, design, flaws]   \n",
       "3          3            [my, favorite, buy]   \n",
       "4          4            [flattering, shirt]   \n",
       "5          5  [not, for, the, very, petite]   \n",
       "6          6       [cagrcoal, shimmer, fun]   \n",
       "\n",
       "                                         Review Text Rating Recommended IND  \\\n",
       "0        absolutely wonderful silky sexy comfortable      4               1   \n",
       "1  love dress sooo pretty happened find store im ...      5               1   \n",
       "2  high hopes dress really wanted work initially ...      3               0   \n",
       "3  love love love jumpsuit fun flirty fabulous ev...      5               1   \n",
       "4  shirt flattering due adjustable front tie perf...      5               1   \n",
       "5  love tracy reese dresses one petite 5 feet tal...      2               0   \n",
       "6  aded basket hte last mintue see would look lik...      5               1   \n",
       "\n",
       "  Positive Feedback Count  \n",
       "0                       0  \n",
       "1                       4  \n",
       "2                       0  \n",
       "3                       0  \n",
       "4                       6  \n",
       "5                       4  \n",
       "6                       1  "
      ]
     },
     "execution_count": 23,
     "metadata": {},
     "output_type": "execute_result"
    }
   ],
   "source": [
    "train.head(7)"
   ]
  },
  {
   "cell_type": "code",
   "execution_count": 104,
   "metadata": {},
   "outputs": [
    {
     "name": "stdout",
     "output_type": "stream",
     "text": [
      "^C\n",
      "Note: you may need to restart the kernel to use updated packages.\n"
     ]
    }
   ],
   "source": [
    "pip install autocorrect# before this getting ModuleNotFoundError: No module named 'autocorrect'"
   ]
  },
  {
   "cell_type": "code",
   "execution_count": null,
   "metadata": {},
   "outputs": [],
   "source": [
    "from autocorrect import speller\n",
    "x = train['Review Text'].str\n",
    "train['Review Text']= train['Review Text'].apply(lambda x: ' '.join([speller(word) for word in x ]))\n",
    "#not run"
   ]
  },
  {
   "cell_type": "code",
   "execution_count": 24,
   "metadata": {},
   "outputs": [],
   "source": [
    "from nltk.stem import WordNetLemmatizer\n",
    "lemmatizer=WordNetLemmatizer()\n",
    "x = train['Review Text']\n",
    "#train['Review Text']= train['Review Text'].apply(lemmatizer)\n",
    "train['Review Text Lemm']= train['Review Text'].apply(lambda x: ' '.join([lemmatizer.lemmatize(word) for word in x ]))\n"
   ]
  },
  {
   "cell_type": "code",
   "execution_count": 26,
   "metadata": {},
   "outputs": [
    {
     "data": {
      "text/html": [
       "<div>\n",
       "<style scoped>\n",
       "    .dataframe tbody tr th:only-of-type {\n",
       "        vertical-align: middle;\n",
       "    }\n",
       "\n",
       "    .dataframe tbody tr th {\n",
       "        vertical-align: top;\n",
       "    }\n",
       "\n",
       "    .dataframe thead th {\n",
       "        text-align: right;\n",
       "    }\n",
       "</style>\n",
       "<table border=\"1\" class=\"dataframe\">\n",
       "  <thead>\n",
       "    <tr style=\"text-align: right;\">\n",
       "      <th></th>\n",
       "      <th>Unnamed: 0</th>\n",
       "      <th>Title</th>\n",
       "      <th>Review Text</th>\n",
       "      <th>Rating</th>\n",
       "      <th>Recommended IND</th>\n",
       "      <th>Positive Feedback Count</th>\n",
       "      <th>Review Text Lemm</th>\n",
       "    </tr>\n",
       "  </thead>\n",
       "  <tbody>\n",
       "    <tr>\n",
       "      <th>0</th>\n",
       "      <td>0</td>\n",
       "      <td>[]</td>\n",
       "      <td>absolutely wonderful silky sexy comfortable</td>\n",
       "      <td>4</td>\n",
       "      <td>1</td>\n",
       "      <td>0</td>\n",
       "      <td>a b s o l u t e l y   w o n d e r f u l   s i ...</td>\n",
       "    </tr>\n",
       "    <tr>\n",
       "      <th>1</th>\n",
       "      <td>1</td>\n",
       "      <td>[]</td>\n",
       "      <td>love dress sooo pretty happened find store im ...</td>\n",
       "      <td>5</td>\n",
       "      <td>1</td>\n",
       "      <td>4</td>\n",
       "      <td>l o v e   d r e s s   s o o o   p r e t t y   ...</td>\n",
       "    </tr>\n",
       "    <tr>\n",
       "      <th>2</th>\n",
       "      <td>2</td>\n",
       "      <td>[some, major, design, flaws]</td>\n",
       "      <td>high hopes dress really wanted work initially ...</td>\n",
       "      <td>3</td>\n",
       "      <td>0</td>\n",
       "      <td>0</td>\n",
       "      <td>h i g h   h o p e s   d r e s s   r e a l l y ...</td>\n",
       "    </tr>\n",
       "    <tr>\n",
       "      <th>3</th>\n",
       "      <td>3</td>\n",
       "      <td>[my, favorite, buy]</td>\n",
       "      <td>love love love jumpsuit fun flirty fabulous ev...</td>\n",
       "      <td>5</td>\n",
       "      <td>1</td>\n",
       "      <td>0</td>\n",
       "      <td>l o v e   l o v e   l o v e   j u m p s u i t ...</td>\n",
       "    </tr>\n",
       "    <tr>\n",
       "      <th>4</th>\n",
       "      <td>4</td>\n",
       "      <td>[flattering, shirt]</td>\n",
       "      <td>shirt flattering due adjustable front tie perf...</td>\n",
       "      <td>5</td>\n",
       "      <td>1</td>\n",
       "      <td>6</td>\n",
       "      <td>s h i r t   f l a t t e r i n g   d u e   a d ...</td>\n",
       "    </tr>\n",
       "  </tbody>\n",
       "</table>\n",
       "</div>"
      ],
      "text/plain": [
       "  Unnamed: 0                         Title  \\\n",
       "0          0                            []   \n",
       "1          1                            []   \n",
       "2          2  [some, major, design, flaws]   \n",
       "3          3           [my, favorite, buy]   \n",
       "4          4           [flattering, shirt]   \n",
       "\n",
       "                                         Review Text Rating Recommended IND  \\\n",
       "0        absolutely wonderful silky sexy comfortable      4               1   \n",
       "1  love dress sooo pretty happened find store im ...      5               1   \n",
       "2  high hopes dress really wanted work initially ...      3               0   \n",
       "3  love love love jumpsuit fun flirty fabulous ev...      5               1   \n",
       "4  shirt flattering due adjustable front tie perf...      5               1   \n",
       "\n",
       "  Positive Feedback Count                                   Review Text Lemm  \n",
       "0                       0  a b s o l u t e l y   w o n d e r f u l   s i ...  \n",
       "1                       4  l o v e   d r e s s   s o o o   p r e t t y   ...  \n",
       "2                       0  h i g h   h o p e s   d r e s s   r e a l l y ...  \n",
       "3                       0  l o v e   l o v e   l o v e   j u m p s u i t ...  \n",
       "4                       6  s h i r t   f l a t t e r i n g   d u e   a d ...  "
      ]
     },
     "execution_count": 26,
     "metadata": {},
     "output_type": "execute_result"
    }
   ],
   "source": [
    "train.head()"
   ]
  },
  {
   "cell_type": "code",
   "execution_count": 27,
   "metadata": {},
   "outputs": [],
   "source": [
    "X_train = train.loc[:15999, 'Review Text'].values\n",
    "y_train = train.loc[:15999, 'Rating'].values\n",
    "X_test = train.loc[15999:, 'Review Text'].values\n",
    "y_test = train.loc[15999:, 'Rating'].values\n",
    "y_train=y_train.astype('int')\n",
    "y_test=y_test.astype('int')"
   ]
  },
  {
   "cell_type": "code",
   "execution_count": 28,
   "metadata": {},
   "outputs": [
    {
     "name": "stdout",
     "output_type": "stream",
     "text": [
      "(16000, 15539) (7487, 15539)\n"
     ]
    }
   ],
   "source": [
    "from sklearn.feature_extraction.text import TfidfTransformer\n",
    "from sklearn.feature_extraction.text import TfidfVectorizer\n",
    "vectorizer = TfidfVectorizer()\n",
    "train_vectors = vectorizer.fit_transform(X_train)\n",
    "test_vectors = vectorizer.transform(X_test)\n",
    "print(train_vectors.shape, test_vectors.shape)"
   ]
  },
  {
   "cell_type": "code",
   "execution_count": 29,
   "metadata": {},
   "outputs": [],
   "source": [
    "from sklearn.naive_bayes import MultinomialNB\n",
    "clf = MultinomialNB().fit(train_vectors, y_train)"
   ]
  },
  {
   "cell_type": "markdown",
   "metadata": {},
   "source": [
    "# Rating Accuracy with Review Text alone"
   ]
  },
  {
   "cell_type": "code",
   "execution_count": 30,
   "metadata": {},
   "outputs": [
    {
     "name": "stdout",
     "output_type": "stream",
     "text": [
      "0.5517563777213838\n"
     ]
    }
   ],
   "source": [
    "from  sklearn.metrics  import accuracy_score\n",
    "predicted = clf.predict(test_vectors)\n",
    "print(accuracy_score(y_test,predicted))"
   ]
  },
  {
   "cell_type": "markdown",
   "metadata": {},
   "source": [
    "rating accuracy with reviews 0.5517563777213838"
   ]
  },
  {
   "cell_type": "code",
   "execution_count": 31,
   "metadata": {},
   "outputs": [],
   "source": [
    "x = train['Title'].str\n",
    "train['Title1'] = train['Title'].apply(lambda x: ' '.join([word for word in x if word not in (stop_words)]))\n",
    "X_train = train.loc[:15999, 'Title1'].values\n",
    "y_train = train.loc[:15999, 'Rating'].values\n",
    "X_test = train.loc[15999:, 'Title1'].values\n",
    "y_test = train.loc[15999:, 'Rating'].values\n",
    "y_train=y_train.astype('int')\n",
    "y_test=y_test.astype('int')"
   ]
  },
  {
   "cell_type": "code",
   "execution_count": 191,
   "metadata": {},
   "outputs": [
    {
     "data": {
      "text/html": [
       "<div>\n",
       "<style scoped>\n",
       "    .dataframe tbody tr th:only-of-type {\n",
       "        vertical-align: middle;\n",
       "    }\n",
       "\n",
       "    .dataframe tbody tr th {\n",
       "        vertical-align: top;\n",
       "    }\n",
       "\n",
       "    .dataframe thead th {\n",
       "        text-align: right;\n",
       "    }\n",
       "</style>\n",
       "<table border=\"1\" class=\"dataframe\">\n",
       "  <thead>\n",
       "    <tr style=\"text-align: right;\">\n",
       "      <th></th>\n",
       "      <th>Unnamed: 0</th>\n",
       "      <th>Title</th>\n",
       "      <th>Review Text</th>\n",
       "      <th>Rating</th>\n",
       "      <th>Recommended IND</th>\n",
       "      <th>Positive Feedback Count</th>\n",
       "      <th>Review Text Lemm</th>\n",
       "      <th>Title1</th>\n",
       "    </tr>\n",
       "  </thead>\n",
       "  <tbody>\n",
       "    <tr>\n",
       "      <th>0</th>\n",
       "      <td>0</td>\n",
       "      <td>[unknown]</td>\n",
       "      <td>absolutely wonderful silky sexy comfortable</td>\n",
       "      <td>4</td>\n",
       "      <td>1</td>\n",
       "      <td>0</td>\n",
       "      <td>a b s o l u t e l y   w o n d e r f u l   s i ...</td>\n",
       "      <td>unknown</td>\n",
       "    </tr>\n",
       "    <tr>\n",
       "      <th>1</th>\n",
       "      <td>1</td>\n",
       "      <td>[unknown]</td>\n",
       "      <td>love dress sooo pretty happened find store im ...</td>\n",
       "      <td>5</td>\n",
       "      <td>1</td>\n",
       "      <td>4</td>\n",
       "      <td>l o v e   d r e s s   s o o o   p r e t t y   ...</td>\n",
       "      <td>unknown</td>\n",
       "    </tr>\n",
       "    <tr>\n",
       "      <th>2</th>\n",
       "      <td>2</td>\n",
       "      <td>[some, major, design, flaws]</td>\n",
       "      <td>high hopes dress really wanted work initially ...</td>\n",
       "      <td>3</td>\n",
       "      <td>0</td>\n",
       "      <td>0</td>\n",
       "      <td>h i g h   h o p e s   d r e s s   r e a l l y ...</td>\n",
       "      <td>major design flaws</td>\n",
       "    </tr>\n",
       "    <tr>\n",
       "      <th>3</th>\n",
       "      <td>3</td>\n",
       "      <td>[my, favorite, buy]</td>\n",
       "      <td>love love love jumpsuit fun flirty fabulous ev...</td>\n",
       "      <td>5</td>\n",
       "      <td>1</td>\n",
       "      <td>0</td>\n",
       "      <td>l o v e   l o v e   l o v e   j u m p s u i t ...</td>\n",
       "      <td>favorite buy</td>\n",
       "    </tr>\n",
       "    <tr>\n",
       "      <th>4</th>\n",
       "      <td>4</td>\n",
       "      <td>[flattering, shirt]</td>\n",
       "      <td>shirt flattering due adjustable front tie perf...</td>\n",
       "      <td>5</td>\n",
       "      <td>1</td>\n",
       "      <td>6</td>\n",
       "      <td>s h i r t   f l a t t e r i n g   d u e   a d ...</td>\n",
       "      <td>flattering shirt</td>\n",
       "    </tr>\n",
       "  </tbody>\n",
       "</table>\n",
       "</div>"
      ],
      "text/plain": [
       "  Unnamed: 0                         Title  \\\n",
       "0          0                     [unknown]   \n",
       "1          1                     [unknown]   \n",
       "2          2  [some, major, design, flaws]   \n",
       "3          3           [my, favorite, buy]   \n",
       "4          4           [flattering, shirt]   \n",
       "\n",
       "                                         Review Text Rating Recommended IND  \\\n",
       "0        absolutely wonderful silky sexy comfortable      4               1   \n",
       "1  love dress sooo pretty happened find store im ...      5               1   \n",
       "2  high hopes dress really wanted work initially ...      3               0   \n",
       "3  love love love jumpsuit fun flirty fabulous ev...      5               1   \n",
       "4  shirt flattering due adjustable front tie perf...      5               1   \n",
       "\n",
       "  Positive Feedback Count                                   Review Text Lemm  \\\n",
       "0                       0  a b s o l u t e l y   w o n d e r f u l   s i ...   \n",
       "1                       4  l o v e   d r e s s   s o o o   p r e t t y   ...   \n",
       "2                       0  h i g h   h o p e s   d r e s s   r e a l l y ...   \n",
       "3                       0  l o v e   l o v e   l o v e   j u m p s u i t ...   \n",
       "4                       6  s h i r t   f l a t t e r i n g   d u e   a d ...   \n",
       "\n",
       "               Title1  \n",
       "0             unknown  \n",
       "1             unknown  \n",
       "2  major design flaws  \n",
       "3        favorite buy  \n",
       "4    flattering shirt  "
      ]
     },
     "execution_count": 191,
     "metadata": {},
     "output_type": "execute_result"
    }
   ],
   "source": [
    "train.head()"
   ]
  },
  {
   "cell_type": "code",
   "execution_count": 32,
   "metadata": {},
   "outputs": [
    {
     "name": "stdout",
     "output_type": "stream",
     "text": [
      "(16000, 3192) (7487, 3192)\n"
     ]
    }
   ],
   "source": [
    "\n",
    "train_vectors = vectorizer.fit_transform(X_train)\n",
    "test_vectors = vectorizer.transform(X_test)\n",
    "print(train_vectors.shape, test_vectors.shape)"
   ]
  },
  {
   "cell_type": "code",
   "execution_count": 35,
   "metadata": {},
   "outputs": [],
   "source": [
    "clf = MultinomialNB().fit(train_vectors, y_train)"
   ]
  },
  {
   "cell_type": "code",
   "execution_count": 36,
   "metadata": {},
   "outputs": [
    {
     "name": "stdout",
     "output_type": "stream",
     "text": [
      "0.5956992119674102\n"
     ]
    }
   ],
   "source": [
    "predicted = clf.predict(test_vectors)\n",
    "print(accuracy_score(y_test,predicted))"
   ]
  },
  {
   "cell_type": "markdown",
   "metadata": {},
   "source": [
    "# This is Rating accuracy with Title alone- 0.5982369440363297"
   ]
  },
  {
   "cell_type": "markdown",
   "metadata": {},
   "source": [
    "# Creating Rating Class . 1-Good 0-Bad"
   ]
  },
  {
   "cell_type": "code",
   "execution_count": 37,
   "metadata": {},
   "outputs": [
    {
     "data": {
      "text/html": [
       "<div>\n",
       "<style scoped>\n",
       "    .dataframe tbody tr th:only-of-type {\n",
       "        vertical-align: middle;\n",
       "    }\n",
       "\n",
       "    .dataframe tbody tr th {\n",
       "        vertical-align: top;\n",
       "    }\n",
       "\n",
       "    .dataframe thead th {\n",
       "        text-align: right;\n",
       "    }\n",
       "</style>\n",
       "<table border=\"1\" class=\"dataframe\">\n",
       "  <thead>\n",
       "    <tr style=\"text-align: right;\">\n",
       "      <th></th>\n",
       "      <th>Unnamed: 0</th>\n",
       "      <th>Title</th>\n",
       "      <th>Review Text</th>\n",
       "      <th>Rating</th>\n",
       "      <th>Recommended IND</th>\n",
       "      <th>Positive Feedback Count</th>\n",
       "      <th>Review Text Lemm</th>\n",
       "      <th>Title1</th>\n",
       "      <th>Rating Class</th>\n",
       "    </tr>\n",
       "  </thead>\n",
       "  <tbody>\n",
       "    <tr>\n",
       "      <th>0</th>\n",
       "      <td>0</td>\n",
       "      <td>[]</td>\n",
       "      <td>absolutely wonderful silky sexy comfortable</td>\n",
       "      <td>4</td>\n",
       "      <td>1</td>\n",
       "      <td>0</td>\n",
       "      <td>a b s o l u t e l y   w o n d e r f u l   s i ...</td>\n",
       "      <td></td>\n",
       "      <td>1</td>\n",
       "    </tr>\n",
       "    <tr>\n",
       "      <th>1</th>\n",
       "      <td>1</td>\n",
       "      <td>[]</td>\n",
       "      <td>love dress sooo pretty happened find store im ...</td>\n",
       "      <td>5</td>\n",
       "      <td>1</td>\n",
       "      <td>4</td>\n",
       "      <td>l o v e   d r e s s   s o o o   p r e t t y   ...</td>\n",
       "      <td></td>\n",
       "      <td>1</td>\n",
       "    </tr>\n",
       "    <tr>\n",
       "      <th>2</th>\n",
       "      <td>2</td>\n",
       "      <td>[some, major, design, flaws]</td>\n",
       "      <td>high hopes dress really wanted work initially ...</td>\n",
       "      <td>3</td>\n",
       "      <td>0</td>\n",
       "      <td>0</td>\n",
       "      <td>h i g h   h o p e s   d r e s s   r e a l l y ...</td>\n",
       "      <td>major design flaws</td>\n",
       "      <td>0</td>\n",
       "    </tr>\n",
       "    <tr>\n",
       "      <th>3</th>\n",
       "      <td>3</td>\n",
       "      <td>[my, favorite, buy]</td>\n",
       "      <td>love love love jumpsuit fun flirty fabulous ev...</td>\n",
       "      <td>5</td>\n",
       "      <td>1</td>\n",
       "      <td>0</td>\n",
       "      <td>l o v e   l o v e   l o v e   j u m p s u i t ...</td>\n",
       "      <td>favorite buy</td>\n",
       "      <td>1</td>\n",
       "    </tr>\n",
       "    <tr>\n",
       "      <th>4</th>\n",
       "      <td>4</td>\n",
       "      <td>[flattering, shirt]</td>\n",
       "      <td>shirt flattering due adjustable front tie perf...</td>\n",
       "      <td>5</td>\n",
       "      <td>1</td>\n",
       "      <td>6</td>\n",
       "      <td>s h i r t   f l a t t e r i n g   d u e   a d ...</td>\n",
       "      <td>flattering shirt</td>\n",
       "      <td>1</td>\n",
       "    </tr>\n",
       "  </tbody>\n",
       "</table>\n",
       "</div>"
      ],
      "text/plain": [
       "  Unnamed: 0                         Title  \\\n",
       "0          0                            []   \n",
       "1          1                            []   \n",
       "2          2  [some, major, design, flaws]   \n",
       "3          3           [my, favorite, buy]   \n",
       "4          4           [flattering, shirt]   \n",
       "\n",
       "                                         Review Text Rating Recommended IND  \\\n",
       "0        absolutely wonderful silky sexy comfortable      4               1   \n",
       "1  love dress sooo pretty happened find store im ...      5               1   \n",
       "2  high hopes dress really wanted work initially ...      3               0   \n",
       "3  love love love jumpsuit fun flirty fabulous ev...      5               1   \n",
       "4  shirt flattering due adjustable front tie perf...      5               1   \n",
       "\n",
       "  Positive Feedback Count                                   Review Text Lemm  \\\n",
       "0                       0  a b s o l u t e l y   w o n d e r f u l   s i ...   \n",
       "1                       4  l o v e   d r e s s   s o o o   p r e t t y   ...   \n",
       "2                       0  h i g h   h o p e s   d r e s s   r e a l l y ...   \n",
       "3                       0  l o v e   l o v e   l o v e   j u m p s u i t ...   \n",
       "4                       6  s h i r t   f l a t t e r i n g   d u e   a d ...   \n",
       "\n",
       "               Title1  Rating Class  \n",
       "0                                 1  \n",
       "1                                 1  \n",
       "2  major design flaws             0  \n",
       "3        favorite buy             1  \n",
       "4    flattering shirt             1  "
      ]
     },
     "execution_count": 37,
     "metadata": {},
     "output_type": "execute_result"
    }
   ],
   "source": [
    "train['Rating Class']=np.where(train['Rating']>3,1,0)\n",
    "train.head()"
   ]
  },
  {
   "cell_type": "code",
   "execution_count": 38,
   "metadata": {},
   "outputs": [],
   "source": [
    "\n",
    "X_train = train.loc[:15999, 'Title1'].values\n",
    "y_train = train.loc[:15999, 'Rating Class'].values\n",
    "X_test = train.loc[15999:, 'Title1'].values\n",
    "y_test = train.loc[15999:, 'Rating Class'].values\n",
    "y_train=y_train.astype('int')\n",
    "y_test=y_test.astype('int')"
   ]
  },
  {
   "cell_type": "code",
   "execution_count": 39,
   "metadata": {},
   "outputs": [
    {
     "name": "stdout",
     "output_type": "stream",
     "text": [
      "(16000, 3192) (7487, 3192)\n"
     ]
    }
   ],
   "source": [
    "\n",
    "train_vectors = vectorizer.fit_transform(X_train)\n",
    "test_vectors = vectorizer.transform(X_test)\n",
    "print(train_vectors.shape, test_vectors.shape)"
   ]
  },
  {
   "cell_type": "code",
   "execution_count": 41,
   "metadata": {},
   "outputs": [
    {
     "name": "stdout",
     "output_type": "stream",
     "text": [
      "0.8398557499666088\n"
     ]
    }
   ],
   "source": [
    "clf = MultinomialNB().fit(train_vectors, y_train)\n",
    "predicted = clf.predict(test_vectors)\n",
    "print(accuracy_score(y_test,predicted))"
   ]
  },
  {
   "cell_type": "code",
   "execution_count": 42,
   "metadata": {},
   "outputs": [
    {
     "name": "stdout",
     "output_type": "stream",
     "text": [
      "0.8510751970081475\n"
     ]
    }
   ],
   "source": [
    "from sklearn.svm import LinearSVC\n",
    "clf = LinearSVC(random_state=0, tol=1e-5, C=.3)\n",
    "clf.fit(train_vectors, y_train) \n",
    "predicted = clf.predict(test_vectors)\n",
    "print(accuracy_score(y_test,predicted))"
   ]
  },
  {
   "cell_type": "code",
   "execution_count": null,
   "metadata": {},
   "outputs": [],
   "source": [
    "####SVM GIVING ONLY SLIGHLY BETTER ACCURACY FOR Title-  0.8398557499666088 vs 0.8510751970081475"
   ]
  },
  {
   "cell_type": "code",
   "execution_count": 44,
   "metadata": {},
   "outputs": [
    {
     "name": "stdout",
     "output_type": "stream",
     "text": [
      "0.849873113396554\n"
     ]
    }
   ],
   "source": [
    "clf = LinearSVC(random_state=0, tol=1e-5, C=.5)\n",
    "clf.fit(train_vectors, y_train) \n",
    "predicted = clf.predict(test_vectors)\n",
    "print(accuracy_score(y_test,predicted))"
   ]
  },
  {
   "cell_type": "code",
   "execution_count": 45,
   "metadata": {},
   "outputs": [
    {
     "name": "stdout",
     "output_type": "stream",
     "text": [
      "0.848537464939228\n"
     ]
    }
   ],
   "source": [
    "clf = LinearSVC(random_state=0, tol=1e-5, C=1)\n",
    "clf.fit(train_vectors, y_train) \n",
    "predicted = clf.predict(test_vectors)\n",
    "print(accuracy_score(y_test,predicted))"
   ]
  },
  {
   "cell_type": "markdown",
   "metadata": {},
   "source": [
    "# So far- Rating Class Accuracy with Titles alone"
   ]
  },
  {
   "cell_type": "code",
   "execution_count": 46,
   "metadata": {},
   "outputs": [],
   "source": [
    "\n",
    "X_train = train.loc[:15999, 'Review Text'].values\n",
    "y_train = train.loc[:15999, 'Rating Class'].values\n",
    "X_test = train.loc[15999:, 'Review Text'].values\n",
    "y_test = train.loc[15999:, 'Rating Class'].values\n",
    "y_train=y_train.astype('int')\n",
    "y_test=y_test.astype('int')\n"
   ]
  },
  {
   "cell_type": "code",
   "execution_count": 47,
   "metadata": {},
   "outputs": [
    {
     "name": "stdout",
     "output_type": "stream",
     "text": [
      "0.7820221717643916\n"
     ]
    }
   ],
   "source": [
    "train_vectors = vectorizer.fit_transform(X_train)\n",
    "test_vectors = vectorizer.transform(X_test)\n",
    "clf = MultinomialNB().fit(train_vectors, y_train)\n",
    "predicted = clf.predict(test_vectors)\n",
    "print(accuracy_score(y_test,predicted))"
   ]
  },
  {
   "cell_type": "markdown",
   "metadata": {},
   "source": [
    "# Rating Class Accuracy with Review Text"
   ]
  },
  {
   "cell_type": "code",
   "execution_count": 48,
   "metadata": {},
   "outputs": [
    {
     "name": "stdout",
     "output_type": "stream",
     "text": [
      "0.866034459730199\n"
     ]
    }
   ],
   "source": [
    "from sklearn.svm import LinearSVC\n",
    "clf = LinearSVC(random_state=0, tol=1e-5, C=1)\n",
    "clf.fit(train_vectors, y_train) \n",
    "predicted = clf.predict(test_vectors)\n",
    "print(accuracy_score(y_test,predicted))"
   ]
  },
  {
   "cell_type": "code",
   "execution_count": 49,
   "metadata": {},
   "outputs": [
    {
     "name": "stdout",
     "output_type": "stream",
     "text": [
      "0.8689728863363163\n"
     ]
    }
   ],
   "source": [
    "clf = LinearSVC(random_state=0, tol=1e-5, C=.1)\n",
    "clf.fit(train_vectors, y_train) \n",
    "predicted = clf.predict(test_vectors)\n",
    "print(accuracy_score(y_test,predicted))"
   ]
  },
  {
   "cell_type": "code",
   "execution_count": null,
   "metadata": {},
   "outputs": [],
   "source": []
  },
  {
   "cell_type": "markdown",
   "metadata": {},
   "source": [
    "# LINEAR SVC GIVING HIGHER ACCURACY with REVIEW TEXT- 0.8728\n",
    "####SHOULD COMBINE THEM BOTH & TEST "
   ]
  },
  {
   "cell_type": "code",
   "execution_count": null,
   "metadata": {},
   "outputs": [],
   "source": []
  },
  {
   "cell_type": "code",
   "execution_count": 51,
   "metadata": {},
   "outputs": [
    {
     "data": {
      "text/html": [
       "<div>\n",
       "<style scoped>\n",
       "    .dataframe tbody tr th:only-of-type {\n",
       "        vertical-align: middle;\n",
       "    }\n",
       "\n",
       "    .dataframe tbody tr th {\n",
       "        vertical-align: top;\n",
       "    }\n",
       "\n",
       "    .dataframe thead th {\n",
       "        text-align: right;\n",
       "    }\n",
       "</style>\n",
       "<table border=\"1\" class=\"dataframe\">\n",
       "  <thead>\n",
       "    <tr style=\"text-align: right;\">\n",
       "      <th></th>\n",
       "      <th>Unnamed: 0</th>\n",
       "      <th>Title</th>\n",
       "      <th>Review Text</th>\n",
       "      <th>Rating</th>\n",
       "      <th>Recommended IND</th>\n",
       "      <th>Positive Feedback Count</th>\n",
       "      <th>Review Text Lemm</th>\n",
       "      <th>Title1</th>\n",
       "      <th>Rating Class</th>\n",
       "      <th>All</th>\n",
       "    </tr>\n",
       "  </thead>\n",
       "  <tbody>\n",
       "    <tr>\n",
       "      <th>0</th>\n",
       "      <td>0</td>\n",
       "      <td>[]</td>\n",
       "      <td>absolutely wonderful silky sexy comfortable</td>\n",
       "      <td>4</td>\n",
       "      <td>1</td>\n",
       "      <td>0</td>\n",
       "      <td>a b s o l u t e l y   w o n d e r f u l   s i ...</td>\n",
       "      <td></td>\n",
       "      <td>1</td>\n",
       "      <td>absolutely wonderful silky sexy comfortable</td>\n",
       "    </tr>\n",
       "    <tr>\n",
       "      <th>1</th>\n",
       "      <td>1</td>\n",
       "      <td>[]</td>\n",
       "      <td>love dress sooo pretty happened find store im ...</td>\n",
       "      <td>5</td>\n",
       "      <td>1</td>\n",
       "      <td>4</td>\n",
       "      <td>l o v e   d r e s s   s o o o   p r e t t y   ...</td>\n",
       "      <td></td>\n",
       "      <td>1</td>\n",
       "      <td>love dress sooo pretty happened find store im...</td>\n",
       "    </tr>\n",
       "    <tr>\n",
       "      <th>2</th>\n",
       "      <td>2</td>\n",
       "      <td>[some, major, design, flaws]</td>\n",
       "      <td>high hopes dress really wanted work initially ...</td>\n",
       "      <td>3</td>\n",
       "      <td>0</td>\n",
       "      <td>0</td>\n",
       "      <td>h i g h   h o p e s   d r e s s   r e a l l y ...</td>\n",
       "      <td>major design flaws</td>\n",
       "      <td>0</td>\n",
       "      <td>major design flaws high hopes dress really wan...</td>\n",
       "    </tr>\n",
       "    <tr>\n",
       "      <th>3</th>\n",
       "      <td>3</td>\n",
       "      <td>[my, favorite, buy]</td>\n",
       "      <td>love love love jumpsuit fun flirty fabulous ev...</td>\n",
       "      <td>5</td>\n",
       "      <td>1</td>\n",
       "      <td>0</td>\n",
       "      <td>l o v e   l o v e   l o v e   j u m p s u i t ...</td>\n",
       "      <td>favorite buy</td>\n",
       "      <td>1</td>\n",
       "      <td>favorite buy love love love jumpsuit fun flirt...</td>\n",
       "    </tr>\n",
       "    <tr>\n",
       "      <th>4</th>\n",
       "      <td>4</td>\n",
       "      <td>[flattering, shirt]</td>\n",
       "      <td>shirt flattering due adjustable front tie perf...</td>\n",
       "      <td>5</td>\n",
       "      <td>1</td>\n",
       "      <td>6</td>\n",
       "      <td>s h i r t   f l a t t e r i n g   d u e   a d ...</td>\n",
       "      <td>flattering shirt</td>\n",
       "      <td>1</td>\n",
       "      <td>flattering shirt shirt flattering due adjustab...</td>\n",
       "    </tr>\n",
       "    <tr>\n",
       "      <th>5</th>\n",
       "      <td>5</td>\n",
       "      <td>[not, for, the, very, petite]</td>\n",
       "      <td>love tracy reese dresses one petite 5 feet tal...</td>\n",
       "      <td>2</td>\n",
       "      <td>0</td>\n",
       "      <td>4</td>\n",
       "      <td>l o v e   t r a c y   r e e s e   d r e s s e ...</td>\n",
       "      <td>petite</td>\n",
       "      <td>0</td>\n",
       "      <td>petite love tracy reese dresses one petite 5 f...</td>\n",
       "    </tr>\n",
       "    <tr>\n",
       "      <th>6</th>\n",
       "      <td>6</td>\n",
       "      <td>[cagrcoal, shimmer, fun]</td>\n",
       "      <td>aded basket hte last mintue see would look lik...</td>\n",
       "      <td>5</td>\n",
       "      <td>1</td>\n",
       "      <td>1</td>\n",
       "      <td>a d e d   b a s k e t   h t e   l a s t   m i ...</td>\n",
       "      <td>cagrcoal shimmer fun</td>\n",
       "      <td>1</td>\n",
       "      <td>cagrcoal shimmer fun aded basket hte last mint...</td>\n",
       "    </tr>\n",
       "  </tbody>\n",
       "</table>\n",
       "</div>"
      ],
      "text/plain": [
       "  Unnamed: 0                          Title  \\\n",
       "0          0                             []   \n",
       "1          1                             []   \n",
       "2          2   [some, major, design, flaws]   \n",
       "3          3            [my, favorite, buy]   \n",
       "4          4            [flattering, shirt]   \n",
       "5          5  [not, for, the, very, petite]   \n",
       "6          6       [cagrcoal, shimmer, fun]   \n",
       "\n",
       "                                         Review Text Rating Recommended IND  \\\n",
       "0        absolutely wonderful silky sexy comfortable      4               1   \n",
       "1  love dress sooo pretty happened find store im ...      5               1   \n",
       "2  high hopes dress really wanted work initially ...      3               0   \n",
       "3  love love love jumpsuit fun flirty fabulous ev...      5               1   \n",
       "4  shirt flattering due adjustable front tie perf...      5               1   \n",
       "5  love tracy reese dresses one petite 5 feet tal...      2               0   \n",
       "6  aded basket hte last mintue see would look lik...      5               1   \n",
       "\n",
       "  Positive Feedback Count                                   Review Text Lemm  \\\n",
       "0                       0  a b s o l u t e l y   w o n d e r f u l   s i ...   \n",
       "1                       4  l o v e   d r e s s   s o o o   p r e t t y   ...   \n",
       "2                       0  h i g h   h o p e s   d r e s s   r e a l l y ...   \n",
       "3                       0  l o v e   l o v e   l o v e   j u m p s u i t ...   \n",
       "4                       6  s h i r t   f l a t t e r i n g   d u e   a d ...   \n",
       "5                       4  l o v e   t r a c y   r e e s e   d r e s s e ...   \n",
       "6                       1  a d e d   b a s k e t   h t e   l a s t   m i ...   \n",
       "\n",
       "                 Title1  Rating Class  \\\n",
       "0                                   1   \n",
       "1                                   1   \n",
       "2    major design flaws             0   \n",
       "3          favorite buy             1   \n",
       "4      flattering shirt             1   \n",
       "5                petite             0   \n",
       "6  cagrcoal shimmer fun             1   \n",
       "\n",
       "                                                 All  \n",
       "0        absolutely wonderful silky sexy comfortable  \n",
       "1   love dress sooo pretty happened find store im...  \n",
       "2  major design flaws high hopes dress really wan...  \n",
       "3  favorite buy love love love jumpsuit fun flirt...  \n",
       "4  flattering shirt shirt flattering due adjustab...  \n",
       "5  petite love tracy reese dresses one petite 5 f...  \n",
       "6  cagrcoal shimmer fun aded basket hte last mint...  "
      ]
     },
     "execution_count": 51,
     "metadata": {},
     "output_type": "execute_result"
    }
   ],
   "source": [
    "train['All'] = train[['Title1','Review Text' ]].apply(lambda x: ' '.join(x), axis=1)\n",
    "train.head(7)\n"
   ]
  },
  {
   "cell_type": "code",
   "execution_count": 52,
   "metadata": {},
   "outputs": [],
   "source": [
    "X_train = train.loc[:15999, 'All'].values\n",
    "y_train = train.loc[:15999, 'Rating Class'].values\n",
    "X_test = train.loc[15999:, 'All'].values\n",
    "y_test = train.loc[15999:, 'Rating Class'].values"
   ]
  },
  {
   "cell_type": "code",
   "execution_count": 53,
   "metadata": {},
   "outputs": [],
   "source": [
    "train_vectors = vectorizer.fit_transform(X_train)\n",
    "test_vectors = vectorizer.transform(X_test)"
   ]
  },
  {
   "cell_type": "code",
   "execution_count": 54,
   "metadata": {},
   "outputs": [
    {
     "name": "stdout",
     "output_type": "stream",
     "text": [
      "0.787631895285161\n"
     ]
    }
   ],
   "source": [
    "clf = MultinomialNB().fit(train_vectors, y_train)\n",
    "predicted = clf.predict(test_vectors)\n",
    "print(accuracy_score(y_test,predicted))"
   ]
  },
  {
   "cell_type": "markdown",
   "metadata": {},
   "source": [
    "NB performance hardly improved than performance on Title. NB Actually performed much better on Review Text"
   ]
  },
  {
   "cell_type": "code",
   "execution_count": 55,
   "metadata": {},
   "outputs": [
    {
     "name": "stdout",
     "output_type": "stream",
     "text": [
      "0.8825965006010418\n"
     ]
    }
   ],
   "source": [
    "clf = LinearSVC(random_state=0, tol=1e-5, C=.1)\n",
    "clf.fit(train_vectors, y_train) \n",
    "predicted = clf.predict(test_vectors)\n",
    "print(accuracy_score(y_test,predicted))"
   ]
  },
  {
   "cell_type": "code",
   "execution_count": 56,
   "metadata": {},
   "outputs": [
    {
     "name": "stdout",
     "output_type": "stream",
     "text": [
      "0.8839321490583678\n"
     ]
    }
   ],
   "source": [
    "clf = LinearSVC(random_state=0, tol=1e-5, C=.5)\n",
    "clf.fit(train_vectors, y_train) \n",
    "predicted = clf.predict(test_vectors)\n",
    "print(accuracy_score(y_test,predicted))"
   ]
  },
  {
   "cell_type": "code",
   "execution_count": 57,
   "metadata": {},
   "outputs": [
    {
     "name": "stdout",
     "output_type": "stream",
     "text": [
      "0.8843328435955656\n"
     ]
    }
   ],
   "source": [
    "clf = LinearSVC(random_state=0, tol=1e-5, C=.3)\n",
    "clf.fit(train_vectors, y_train) \n",
    "predicted = clf.predict(test_vectors)\n",
    "print(accuracy_score(y_test,predicted))"
   ]
  },
  {
   "cell_type": "code",
   "execution_count": 58,
   "metadata": {},
   "outputs": [],
   "source": [
    "from sklearn.model_selection import cross_val_score"
   ]
  },
  {
   "cell_type": "code",
   "execution_count": 59,
   "metadata": {},
   "outputs": [
    {
     "name": "stdout",
     "output_type": "stream",
     "text": [
      "[0.88786718 0.89052121 0.88323965]\n"
     ]
    }
   ],
   "source": [
    " X = train.loc[:, 'All'].values\n",
    "y = train.loc[:, 'Rating Class'].values\n",
    "y=y.astype('int')\n",
    "#with SVM\n",
    "train_vectors = vectorizer.fit_transform(X)\n",
    "print(cross_val_score(clf, train_vectors, y, cv=3)) "
   ]
  },
  {
   "cell_type": "code",
   "execution_count": 61,
   "metadata": {},
   "outputs": [
    {
     "name": "stdout",
     "output_type": "stream",
     "text": [
      "[0.78697318 0.78857946 0.78742974]\n"
     ]
    }
   ],
   "source": [
    "clf = MultinomialNB()\n",
    "print(cross_val_score(clf, train_vectors, y, cv=3)) "
   ]
  },
  {
   "cell_type": "markdown",
   "metadata": {},
   "source": [
    "IF WE INCLUDE RECOMMENDED INDEX & POSITIVE FEEDBACK COUNT & BUILD A MODEL WITH THEM & ENSEMBLE IT- it might further improve the accuracy. But not entirely sure, if that is to  be considered as feature (\"known\") or whether we need to predict the ratings just based on Text "
   ]
  },
  {
   "cell_type": "markdown",
   "metadata": {},
   "source": [
    "# descriptive statitics"
   ]
  },
  {
   "cell_type": "code",
   "execution_count": 281,
   "metadata": {},
   "outputs": [],
   "source": [
    "from scipy.stats import norm\n",
    "from sklearn.preprocessing import StandardScaler\n",
    "from scipy import stats\n",
    "import warnings\n",
    "warnings.filterwarnings('ignore')\n",
    "%matplotlib inline\n",
    "from scipy import stats\n",
    "from scipy.stats import norm, skew \n",
    "from scipy.stats import shapiro #for checking for skewed data - Shapiro Wilks Test\n",
    "import matplotlib\n",
    "import seaborn as sns"
   ]
  },
  {
   "cell_type": "code",
   "execution_count": 283,
   "metadata": {},
   "outputs": [
    {
     "data": {
      "text/plain": [
       "0.0"
      ]
     },
     "execution_count": 283,
     "metadata": {},
     "output_type": "execute_result"
    }
   ],
   "source": [
    "shapiro(train['Rating Class'])[1]#if the value is < 0.05 then it is skewed i.e. Not Normal."
   ]
  },
  {
   "cell_type": "code",
   "execution_count": 284,
   "metadata": {},
   "outputs": [
    {
     "data": {
      "text/html": [
       "<div>\n",
       "<style scoped>\n",
       "    .dataframe tbody tr th:only-of-type {\n",
       "        vertical-align: middle;\n",
       "    }\n",
       "\n",
       "    .dataframe tbody tr th {\n",
       "        vertical-align: top;\n",
       "    }\n",
       "\n",
       "    .dataframe thead th {\n",
       "        text-align: right;\n",
       "    }\n",
       "</style>\n",
       "<table border=\"1\" class=\"dataframe\">\n",
       "  <thead>\n",
       "    <tr style=\"text-align: right;\">\n",
       "      <th></th>\n",
       "      <th>Unnamed: 0</th>\n",
       "      <th>Title</th>\n",
       "      <th>Review Text</th>\n",
       "      <th>Rating</th>\n",
       "      <th>Recommended IND</th>\n",
       "      <th>Positive Feedback Count</th>\n",
       "      <th>Review Text Lemm</th>\n",
       "      <th>Title1</th>\n",
       "      <th>Rating Class</th>\n",
       "      <th>All</th>\n",
       "    </tr>\n",
       "  </thead>\n",
       "  <tbody>\n",
       "    <tr>\n",
       "      <th>0</th>\n",
       "      <td>0</td>\n",
       "      <td>[]</td>\n",
       "      <td>absolutely wonderful silky sexy comfortable</td>\n",
       "      <td>4</td>\n",
       "      <td>1</td>\n",
       "      <td>0</td>\n",
       "      <td>a b s o l u t e l y   w o n d e r f u l   s i ...</td>\n",
       "      <td></td>\n",
       "      <td>1</td>\n",
       "      <td>absolutely wonderful silky sexy comfortable</td>\n",
       "    </tr>\n",
       "    <tr>\n",
       "      <th>1</th>\n",
       "      <td>1</td>\n",
       "      <td>[]</td>\n",
       "      <td>love dress sooo pretty happened find store im ...</td>\n",
       "      <td>5</td>\n",
       "      <td>1</td>\n",
       "      <td>4</td>\n",
       "      <td>l o v e   d r e s s   s o o o   p r e t t y   ...</td>\n",
       "      <td></td>\n",
       "      <td>1</td>\n",
       "      <td>love dress sooo pretty happened find store im...</td>\n",
       "    </tr>\n",
       "    <tr>\n",
       "      <th>2</th>\n",
       "      <td>2</td>\n",
       "      <td>[some, major, design, flaws]</td>\n",
       "      <td>high hopes dress really wanted work initially ...</td>\n",
       "      <td>3</td>\n",
       "      <td>0</td>\n",
       "      <td>0</td>\n",
       "      <td>h i g h   h o p e s   d r e s s   r e a l l y ...</td>\n",
       "      <td>major design flaws</td>\n",
       "      <td>0</td>\n",
       "      <td>major design flaws high hopes dress really wan...</td>\n",
       "    </tr>\n",
       "    <tr>\n",
       "      <th>3</th>\n",
       "      <td>3</td>\n",
       "      <td>[my, favorite, buy]</td>\n",
       "      <td>love love love jumpsuit fun flirty fabulous ev...</td>\n",
       "      <td>5</td>\n",
       "      <td>1</td>\n",
       "      <td>0</td>\n",
       "      <td>l o v e   l o v e   l o v e   j u m p s u i t ...</td>\n",
       "      <td>favorite buy</td>\n",
       "      <td>1</td>\n",
       "      <td>favorite buy love love love jumpsuit fun flirt...</td>\n",
       "    </tr>\n",
       "    <tr>\n",
       "      <th>4</th>\n",
       "      <td>4</td>\n",
       "      <td>[flattering, shirt]</td>\n",
       "      <td>shirt flattering due adjustable front tie perf...</td>\n",
       "      <td>5</td>\n",
       "      <td>1</td>\n",
       "      <td>6</td>\n",
       "      <td>s h i r t   f l a t t e r i n g   d u e   a d ...</td>\n",
       "      <td>flattering shirt</td>\n",
       "      <td>1</td>\n",
       "      <td>flattering shirt shirt flattering due adjustab...</td>\n",
       "    </tr>\n",
       "  </tbody>\n",
       "</table>\n",
       "</div>"
      ],
      "text/plain": [
       "  Unnamed: 0                         Title  \\\n",
       "0          0                            []   \n",
       "1          1                            []   \n",
       "2          2  [some, major, design, flaws]   \n",
       "3          3           [my, favorite, buy]   \n",
       "4          4           [flattering, shirt]   \n",
       "\n",
       "                                         Review Text Rating Recommended IND  \\\n",
       "0        absolutely wonderful silky sexy comfortable      4               1   \n",
       "1  love dress sooo pretty happened find store im ...      5               1   \n",
       "2  high hopes dress really wanted work initially ...      3               0   \n",
       "3  love love love jumpsuit fun flirty fabulous ev...      5               1   \n",
       "4  shirt flattering due adjustable front tie perf...      5               1   \n",
       "\n",
       "  Positive Feedback Count                                   Review Text Lemm  \\\n",
       "0                       0  a b s o l u t e l y   w o n d e r f u l   s i ...   \n",
       "1                       4  l o v e   d r e s s   s o o o   p r e t t y   ...   \n",
       "2                       0  h i g h   h o p e s   d r e s s   r e a l l y ...   \n",
       "3                       0  l o v e   l o v e   l o v e   j u m p s u i t ...   \n",
       "4                       6  s h i r t   f l a t t e r i n g   d u e   a d ...   \n",
       "\n",
       "               Title1  Rating Class  \\\n",
       "0                                 1   \n",
       "1                                 1   \n",
       "2  major design flaws             0   \n",
       "3        favorite buy             1   \n",
       "4    flattering shirt             1   \n",
       "\n",
       "                                                 All  \n",
       "0        absolutely wonderful silky sexy comfortable  \n",
       "1   love dress sooo pretty happened find store im...  \n",
       "2  major design flaws high hopes dress really wan...  \n",
       "3  favorite buy love love love jumpsuit fun flirt...  \n",
       "4  flattering shirt shirt flattering due adjustab...  "
      ]
     },
     "execution_count": 284,
     "metadata": {},
     "output_type": "execute_result"
    }
   ],
   "source": [
    "train.head()"
   ]
  },
  {
   "cell_type": "code",
   "execution_count": 285,
   "metadata": {},
   "outputs": [],
   "source": [
    "# To calculate skewedness of all the columns , we use Fisher Pearson Standard Moment Co-efficient\n",
    "num_feats = train.dtypes[train.dtypes!= 'object'].index # determine index for continuous variables\n",
    "skew_feats = train.skew().sort_values(ascending = False)# calculate skewness & sort descending\n",
    "skewness = pd.DataFrame({'skew': skew_feats})"
   ]
  },
  {
   "cell_type": "code",
   "execution_count": 286,
   "metadata": {},
   "outputs": [
    {
     "data": {
      "text/html": [
       "<div>\n",
       "<style scoped>\n",
       "    .dataframe tbody tr th:only-of-type {\n",
       "        vertical-align: middle;\n",
       "    }\n",
       "\n",
       "    .dataframe tbody tr th {\n",
       "        vertical-align: top;\n",
       "    }\n",
       "\n",
       "    .dataframe thead th {\n",
       "        text-align: right;\n",
       "    }\n",
       "</style>\n",
       "<table border=\"1\" class=\"dataframe\">\n",
       "  <thead>\n",
       "    <tr style=\"text-align: right;\">\n",
       "      <th></th>\n",
       "      <th>skew</th>\n",
       "    </tr>\n",
       "  </thead>\n",
       "  <tbody>\n",
       "    <tr>\n",
       "      <th>Positive Feedback Count</th>\n",
       "      <td>6.472998</td>\n",
       "    </tr>\n",
       "    <tr>\n",
       "      <th>Unnamed: 0</th>\n",
       "      <td>0.000000</td>\n",
       "    </tr>\n",
       "    <tr>\n",
       "      <th>Rating</th>\n",
       "      <td>-1.313529</td>\n",
       "    </tr>\n",
       "    <tr>\n",
       "      <th>Rating Class</th>\n",
       "      <td>-1.319048</td>\n",
       "    </tr>\n",
       "    <tr>\n",
       "      <th>Recommended IND</th>\n",
       "      <td>-1.686952</td>\n",
       "    </tr>\n",
       "  </tbody>\n",
       "</table>\n",
       "</div>"
      ],
      "text/plain": [
       "                             skew\n",
       "Positive Feedback Count  6.472998\n",
       "Unnamed: 0               0.000000\n",
       "Rating                  -1.313529\n",
       "Rating Class            -1.319048\n",
       "Recommended IND         -1.686952"
      ]
     },
     "execution_count": 286,
     "metadata": {},
     "output_type": "execute_result"
    }
   ],
   "source": [
    "skewness"
   ]
  },
  {
   "cell_type": "code",
   "execution_count": 287,
   "metadata": {},
   "outputs": [
    {
     "data": {
      "text/plain": [
       "<matplotlib.axes._subplots.AxesSubplot at 0x2750859e4a8>"
      ]
     },
     "execution_count": 287,
     "metadata": {},
     "output_type": "execute_result"
    },
    {
     "data": {
      "image/png": "[encoded data removed]",
      "text/plain": [
       "<Figure size 432x288 with 1 Axes>"
      ]
     },
     "metadata": {
      "needs_background": "light"
     },
     "output_type": "display_data"
    }
   ],
   "source": [
    "resp = train['Rating Class']\n",
    "sns.distplot(resp)"
   ]
  },
  {
   "cell_type": "code",
   "execution_count": 288,
   "metadata": {},
   "outputs": [
    {
     "data": {
      "text/plain": [
       "<matplotlib.axes._subplots.AxesSubplot at 0x2750491de48>"
      ]
     },
     "execution_count": 288,
     "metadata": {},
     "output_type": "execute_result"
    },
    {
     "data": {
      "image/png": "[encoded data removed]",
      "text/plain": [
       "<Figure size 432x288 with 1 Axes>"
      ]
     },
     "metadata": {
      "needs_background": "light"
     },
     "output_type": "display_data"
    }
   ],
   "source": [
    "resp = train['Rating']\n",
    "sns.distplot(resp)"
   ]
  },
  {
   "cell_type": "code",
   "execution_count": 289,
   "metadata": {},
   "outputs": [
    {
     "name": "stdout",
     "output_type": "stream",
     "text": [
      "Skewness: -1.313529\n",
      "Kurtosis: 0.804136\n"
     ]
    }
   ],
   "source": [
    "#skewness and kurtosis\n",
    "print(\"Skewness: %f\" % train['Rating'].skew())#log transformation is usually good for positive skewedness\n",
    "print(\"Kurtosis: %f\" % train['Rating'].kurt())#tail"
   ]
  },
  {
   "cell_type": "markdown",
   "metadata": {},
   "source": [
    "# correlation between recommended ind & rating"
   ]
  },
  {
   "cell_type": "code",
   "execution_count": 299,
   "metadata": {},
   "outputs": [
    {
     "data": {
      "text/plain": [
       "0.792336287928579"
      ]
     },
     "execution_count": 299,
     "metadata": {},
     "output_type": "execute_result"
    }
   ],
   "source": [
    "data['Rating'].corr(data['Recommended IND'])"
   ]
  },
  {
   "cell_type": "code",
   "execution_count": 300,
   "metadata": {},
   "outputs": [],
   "source": [
    "data['Rating Class']=np.where(data['Rating']>3,1,0)"
   ]
  },
  {
   "cell_type": "code",
   "execution_count": 301,
   "metadata": {},
   "outputs": [
    {
     "data": {
      "text/plain": [
       "0.8117317207682581"
      ]
     },
     "execution_count": 301,
     "metadata": {},
     "output_type": "execute_result"
    }
   ],
   "source": [
    "data['Rating Class'].corr(data['Recommended IND'])"
   ]
  },
  {
   "cell_type": "code",
   "execution_count": 302,
   "metadata": {},
   "outputs": [
    {
     "data": {
      "text/plain": [
       "-0.06496050712064401"
      ]
     },
     "execution_count": 302,
     "metadata": {},
     "output_type": "execute_result"
    }
   ],
   "source": [
    "data['Rating'].corr(data['Positive Feedback Count'])"
   ]
  },
  {
   "cell_type": "code",
   "execution_count": 303,
   "metadata": {},
   "outputs": [
    {
     "data": {
      "text/plain": [
       "-0.06732447335673931"
      ]
     },
     "execution_count": 303,
     "metadata": {},
     "output_type": "execute_result"
    }
   ],
   "source": [
    "data['Rating Class'].corr(data['Positive Feedback Count'])"
   ]
  },
  {
   "cell_type": "code",
   "execution_count": 304,
   "metadata": {},
   "outputs": [
    {
     "data": {
      "text/plain": [
       "Unnamed: 0                 5278\n",
       "Clothing ID                5278\n",
       "Age                        5278\n",
       "Title                      4515\n",
       "Review Text                5193\n",
       "Rating                     5278\n",
       "Recommended IND            5278\n",
       "Positive Feedback Count    5278\n",
       "Division Name              5278\n",
       "Department Name            5278\n",
       "Class Name                 5278\n",
       "Rating Class               5278\n",
       "dtype: int64"
      ]
     },
     "execution_count": 304,
     "metadata": {},
     "output_type": "execute_result"
    }
   ],
   "source": [
    "data[data['Rating Class']==0].count()"
   ]
  },
  {
   "cell_type": "code",
   "execution_count": 306,
   "metadata": {},
   "outputs": [
    {
     "data": {
      "text/plain": [
       "Unnamed: 0                 3.449792\n",
       "Clothing ID                3.449792\n",
       "Age                        3.449792\n",
       "Title                      3.357918\n",
       "Review Text                3.359908\n",
       "Rating                     3.449792\n",
       "Recommended IND            3.449792\n",
       "Positive Feedback Count    3.449792\n",
       "Division Name              3.447139\n",
       "Department Name            3.447139\n",
       "Class Name                 3.447139\n",
       "Rating Class               3.449792\n",
       "dtype: float64"
      ]
     },
     "execution_count": 306,
     "metadata": {},
     "output_type": "execute_result"
    }
   ],
   "source": [
    "data[data['Rating Class']==1].count()/data[data['Rating Class']==0].count()"
   ]
  },
  {
   "cell_type": "code",
   "execution_count": 70,
   "metadata": {},
   "outputs": [],
   "source": [
    "def cutoff_predict(clf, X, cutoff):\n",
    "    return (clf.predict_proba(X)[:,1]>cutoff).astype(int)\n",
    "\n",
    "scores =[]\n",
    "def custom_f1(cutoff):\n",
    "    def f1_cutoff(clf,X,y):\n",
    "        ypred = cutoff_predict(clf, X, cutoff)\n",
    "        return f1_score(y, ypred)\n",
    "    return f1_cutoff\n",
    "    "
   ]
  },
  {
   "cell_type": "markdown",
   "metadata": {},
   "source": [
    "# "
   ]
  },
  {
   "cell_type": "code",
   "execution_count": 82,
   "metadata": {},
   "outputs": [
    {
     "name": "stdout",
     "output_type": "stream",
     "text": [
      "cutoff and average f1 score 0.3 0.8745741590309475\n",
      "cutoff and average f1 score 0.32 0.8748202535407499\n",
      "cutoff and average f1 score 0.34 0.8753189167653448\n",
      "cutoff and average f1 score 0.36000000000000004 0.8756918429447511\n",
      "cutoff and average f1 score 0.38000000000000006 0.8762914811128845\n",
      "cutoff and average f1 score 0.4000000000000001 0.8771148338863892\n",
      "cutoff and average f1 score 0.4200000000000001 0.8778704385657733\n",
      "cutoff and average f1 score 0.4400000000000001 0.8787912518187714\n",
      "cutoff and average f1 score 0.46000000000000013 0.8800389787667264\n",
      "cutoff and average f1 score 0.48000000000000015 0.8811568410257455\n",
      "cutoff and average f1 score 0.5000000000000002 0.8824915474096067\n",
      "cutoff and average f1 score 0.5200000000000002 0.8835348301776931\n",
      "cutoff and average f1 score 0.5400000000000003 0.8852383698869595\n",
      "cutoff and average f1 score 0.5600000000000003 0.886856750107181\n",
      "cutoff and average f1 score 0.5800000000000003 0.8888023497021266\n",
      "cutoff and average f1 score 0.6000000000000003 0.891003298117299\n",
      "cutoff and average f1 score 0.6200000000000003 0.8932846179738771\n",
      "cutoff and average f1 score 0.6400000000000003 0.8954898674406685\n",
      "cutoff and average f1 score 0.6600000000000004 0.8976991507228403\n",
      "cutoff and average f1 score 0.6800000000000004 0.8999629561103039\n",
      "cutoff and average f1 score 0.7000000000000004 0.9025159722201037\n",
      "cutoff and average f1 score 0.7200000000000004 0.9055511418208037\n",
      "cutoff and average f1 score 0.7400000000000004 0.9082395418354248\n",
      "cutoff and average f1 score 0.7600000000000005 0.9116860802437639\n",
      "cutoff and average f1 score 0.7800000000000005 0.8950080356131901\n"
     ]
    }
   ],
   "source": [
    "for cutoff in np.arange(0.3,0.8,0.02):\n",
    "    clf = MultinomialNB()\n",
    "#clf.fit(train_vectors, y_train) \n",
    "    print('cutoff and average f1 score',cutoff, cross_val_score(clf, train_vectors, y, cv=5, scoring = custom_f1(cutoff)).mean())"
   ]
  },
  {
   "cell_type": "code",
   "execution_count": 84,
   "metadata": {},
   "outputs": [
    {
     "name": "stdout",
     "output_type": "stream",
     "text": [
      "C and f1_score 0.01 0.6361747095296524\n",
      "C and f1_score 0.03 0.7696289810951893\n",
      "C and f1_score 0.09 0.8152336317535035\n",
      "C and f1_score 0.1 0.8176454818695353\n",
      "C and f1_score 0.2 0.8271901510261046\n",
      "C and f1_score 0.3 0.8290858448863119\n",
      "C and f1_score 0.4 0.8294784393251036\n",
      "C and f1_score 0.5 0.829853544508722\n",
      "C and f1_score 0.7 0.8290790820593447\n",
      "C and f1_score 1 0.8278705434730502\n",
      "C and f1_score 3 0.8162571309443226\n",
      "C and f1_score 10 0.798759609519301\n"
     ]
    },
    {
     "name": "stderr",
     "output_type": "stream",
     "text": [
      "C:\\Users\\saudebna\\Anaconda3\\lib\\site-packages\\sklearn\\svm\\base.py:929: ConvergenceWarning: Liblinear failed to converge, increase the number of iterations.\n",
      "  \"the number of iterations.\", ConvergenceWarning)\n"
     ]
    },
    {
     "name": "stdout",
     "output_type": "stream",
     "text": [
      "C and f1_score 30 0.7814485746819088\n"
     ]
    },
    {
     "name": "stderr",
     "output_type": "stream",
     "text": [
      "C:\\Users\\saudebna\\Anaconda3\\lib\\site-packages\\sklearn\\svm\\base.py:929: ConvergenceWarning: Liblinear failed to converge, increase the number of iterations.\n",
      "  \"the number of iterations.\", ConvergenceWarning)\n"
     ]
    },
    {
     "name": "stdout",
     "output_type": "stream",
     "text": [
      "C and f1_score 100 0.76643235482606\n"
     ]
    }
   ],
   "source": [
    "for C in (0.01,0.03,0.09,0.1, 0.2,0.3,0.4, 0.5, 0.7, 1,3,10,30, 100):\n",
    "    clf = LinearSVC(random_state=0, tol=1e-5, C=C)\n",
    "    \n",
    "    print('C and f1_score',C ,cross_val_score(clf, train_vectors, y, cv=5, scoring = 'f1_macro').mean())"
   ]
  },
  {
   "cell_type": "code",
   "execution_count": 85,
   "metadata": {},
   "outputs": [
    {
     "name": "stdout",
     "output_type": "stream",
     "text": [
      "C and f1_score 0.01 0.8232987069781407\n",
      "C and f1_score 0.03 0.8666435860560476\n",
      "C and f1_score 0.09 0.8847821538470464\n",
      "C and f1_score 0.1 0.8857613664301673\n",
      "C and f1_score 0.2 0.8893379001394626\n",
      "C and f1_score 0.3 0.8895507748050386\n",
      "C and f1_score 0.4 0.8891249529503658\n",
      "C and f1_score 0.5 0.8889546495917289\n",
      "C and f1_score 0.7 0.8879754914012488\n",
      "C and f1_score 1 0.88674066966769\n",
      "C and f1_score 3 0.8776713676413103\n",
      "C and f1_score 10 0.8636209507398487\n"
     ]
    },
    {
     "name": "stderr",
     "output_type": "stream",
     "text": [
      "C:\\Users\\saudebna\\Anaconda3\\lib\\site-packages\\sklearn\\svm\\base.py:929: ConvergenceWarning: Liblinear failed to converge, increase the number of iterations.\n",
      "  \"the number of iterations.\", ConvergenceWarning)\n"
     ]
    },
    {
     "name": "stdout",
     "output_type": "stream",
     "text": [
      "C and f1_score 30 0.8496546792538491\n"
     ]
    },
    {
     "name": "stderr",
     "output_type": "stream",
     "text": [
      "C:\\Users\\saudebna\\Anaconda3\\lib\\site-packages\\sklearn\\svm\\base.py:929: ConvergenceWarning: Liblinear failed to converge, increase the number of iterations.\n",
      "  \"the number of iterations.\", ConvergenceWarning)\n"
     ]
    },
    {
     "name": "stdout",
     "output_type": "stream",
     "text": [
      "C and f1_score 100 0.8372641081818861\n"
     ]
    }
   ],
   "source": [
    "for C in (0.01,0.03,0.09,0.1, 0.2,0.3,0.4, 0.5, 0.7, 1,3,10,30, 100):\n",
    "    clf = LinearSVC(random_state=0, tol=1e-5, C=C)\n",
    "    \n",
    "    print('C and f1_score',C ,cross_val_score(clf, train_vectors, y, cv=5, scoring = 'accuracy').mean())"
   ]
  },
  {
   "cell_type": "code",
   "execution_count": 86,
   "metadata": {},
   "outputs": [
    {
     "name": "stdout",
     "output_type": "stream",
     "text": [
      "C and f1_score 0.01 0.8611079744688196\n",
      "C and f1_score 0.03 0.8716675623321534\n",
      "C and f1_score 0.09 0.8794169362728568\n",
      "C and f1_score 0.1 0.8797150079449517\n",
      "C and f1_score 0.2 0.8808648865043155\n",
      "C and f1_score 0.3 0.8809075122038955\n",
      "C and f1_score 0.4 0.8802261537223061\n",
      "C and f1_score 0.5 0.8803537588578415\n",
      "C and f1_score 0.7 0.8797150442067123\n",
      "C and f1_score 1 0.8772029019561769\n",
      "C and f1_score 3 0.8682191051612813\n"
     ]
    },
    {
     "name": "stderr",
     "output_type": "stream",
     "text": [
      "C:\\Users\\saudebna\\Anaconda3\\lib\\site-packages\\sklearn\\svm\\base.py:929: ConvergenceWarning: Liblinear failed to converge, increase the number of iterations.\n",
      "  \"the number of iterations.\", ConvergenceWarning)\n"
     ]
    },
    {
     "name": "stdout",
     "output_type": "stream",
     "text": [
      "C and f1_score 10 0.8576172723468538\n"
     ]
    },
    {
     "name": "stderr",
     "output_type": "stream",
     "text": [
      "C:\\Users\\saudebna\\Anaconda3\\lib\\site-packages\\sklearn\\svm\\base.py:929: ConvergenceWarning: Liblinear failed to converge, increase the number of iterations.\n",
      "  \"the number of iterations.\", ConvergenceWarning)\n"
     ]
    },
    {
     "name": "stdout",
     "output_type": "stream",
     "text": [
      "C and f1_score 30 0.844758199327997\n"
     ]
    }
   ],
   "source": [
    "for C in (0.01,0.03,0.09,0.1, 0.2,0.3,0.4, 0.5, 0.7, 1,3,10,30):\n",
    "    clf = LinearSVC(random_state=0, tol=1e-5, C=C, class_weight ='balanced')\n",
    "    \n",
    "    print('C and f1_score',C ,cross_val_score(clf, train_vectors, y, cv=5, scoring = 'accuracy').mean())"
   ]
  },
  {
   "cell_type": "code",
   "execution_count": null,
   "metadata": {},
   "outputs": [],
   "source": []
  }
 ],
 "metadata": {
  "kernelspec": {
   "display_name": "Python 3",
   "language": "python",
   "name": "python3"
  },
  "language_info": {
   "codemirror_mode": {
    "name": "ipython",
    "version": 3
   },
   "file_extension": ".py",
   "mimetype": "text/x-python",
   "name": "python",
   "nbconvert_exporter": "python",
   "pygments_lexer": "ipython3",
   "version": "3.7.3"
  }
 },
 "nbformat": 4,
 "nbformat_minor": 2
}
